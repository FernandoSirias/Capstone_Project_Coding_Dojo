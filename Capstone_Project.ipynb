{
 "cells": [
  {
   "cell_type": "markdown",
   "id": "1e005f34",
   "metadata": {},
   "source": [
    "# Diabetes Health Prediction\n",
    "\n",
    "**Data Source:** [kaggle](https://www.kaggle.com/alexteboul/diabetes-health-indicators-dataset)\n",
    "\n",
    "**Members**:\n",
    "- David Mairena\n",
    "- Fernando Sirias"
   ]
  },
  {
   "cell_type": "code",
   "execution_count": 2,
   "id": "662ef71a",
   "metadata": {},
   "outputs": [
    {
     "name": "stderr",
     "output_type": "stream",
     "text": [
      "C:\\Users\\ferna\\anaconda3\\lib\\site-packages\\numpy\\_distributor_init.py:30: UserWarning: loaded more than 1 DLL from .libs:\n",
      "C:\\Users\\ferna\\anaconda3\\lib\\site-packages\\numpy\\.libs\\libopenblas.WCDJNK7YVMPZQ2ME2ZZHJJRJ3JIKNDB7.gfortran-win_amd64.dll\n",
      "C:\\Users\\ferna\\anaconda3\\lib\\site-packages\\numpy\\.libs\\libopenblas.XWYDX2IKJW2NMTWSFYNGFUWKQU3LYTCZ.gfortran-win_amd64.dll\n",
      "  warnings.warn(\"loaded more than 1 DLL from .libs:\"\n"
     ]
    }
   ],
   "source": [
    "import pandas as pd\n",
    "import numpy as np\n",
    "import matplotlib.pyplot as plt\n",
    "import seaborn as sns\n",
    "plt.style.use('ggplot')\n",
    "import warnings\n",
    "warnings.simplefilter(\"ignore\")\n",
    "from collections import Counter"
   ]
  },
  {
   "cell_type": "code",
   "execution_count": 3,
   "id": "b0a52936",
   "metadata": {},
   "outputs": [
    {
     "data": {
      "text/plain": [
       "(253680, 22)"
      ]
     },
     "execution_count": 3,
     "metadata": {},
     "output_type": "execute_result"
    }
   ],
   "source": [
    "df = pd.read_csv(\"data\\diabetes_inbalance.csv\")\n",
    "df.shape"
   ]
  },
  {
   "cell_type": "code",
   "execution_count": 4,
   "id": "b79ef2d1",
   "metadata": {},
   "outputs": [
    {
     "data": {
      "text/html": [
       "<div>\n",
       "<style scoped>\n",
       "    .dataframe tbody tr th:only-of-type {\n",
       "        vertical-align: middle;\n",
       "    }\n",
       "\n",
       "    .dataframe tbody tr th {\n",
       "        vertical-align: top;\n",
       "    }\n",
       "\n",
       "    .dataframe thead th {\n",
       "        text-align: right;\n",
       "    }\n",
       "</style>\n",
       "<table border=\"1\" class=\"dataframe\">\n",
       "  <thead>\n",
       "    <tr style=\"text-align: right;\">\n",
       "      <th></th>\n",
       "      <th>Diabetes_binary</th>\n",
       "      <th>HighBP</th>\n",
       "      <th>HighChol</th>\n",
       "      <th>CholCheck</th>\n",
       "      <th>BMI</th>\n",
       "      <th>Smoker</th>\n",
       "      <th>Stroke</th>\n",
       "      <th>HeartDiseaseorAttack</th>\n",
       "      <th>PhysActivity</th>\n",
       "      <th>Fruits</th>\n",
       "      <th>...</th>\n",
       "      <th>AnyHealthcare</th>\n",
       "      <th>NoDocbcCost</th>\n",
       "      <th>GenHlth</th>\n",
       "      <th>MentHlth</th>\n",
       "      <th>PhysHlth</th>\n",
       "      <th>DiffWalk</th>\n",
       "      <th>Sex</th>\n",
       "      <th>Age</th>\n",
       "      <th>Education</th>\n",
       "      <th>Income</th>\n",
       "    </tr>\n",
       "  </thead>\n",
       "  <tbody>\n",
       "    <tr>\n",
       "      <th>0</th>\n",
       "      <td>0.0</td>\n",
       "      <td>1.0</td>\n",
       "      <td>1.0</td>\n",
       "      <td>1.0</td>\n",
       "      <td>40.0</td>\n",
       "      <td>1.0</td>\n",
       "      <td>0.0</td>\n",
       "      <td>0.0</td>\n",
       "      <td>0.0</td>\n",
       "      <td>0.0</td>\n",
       "      <td>...</td>\n",
       "      <td>1.0</td>\n",
       "      <td>0.0</td>\n",
       "      <td>5.0</td>\n",
       "      <td>18.0</td>\n",
       "      <td>15.0</td>\n",
       "      <td>1.0</td>\n",
       "      <td>0.0</td>\n",
       "      <td>9.0</td>\n",
       "      <td>4.0</td>\n",
       "      <td>3.0</td>\n",
       "    </tr>\n",
       "    <tr>\n",
       "      <th>1</th>\n",
       "      <td>0.0</td>\n",
       "      <td>0.0</td>\n",
       "      <td>0.0</td>\n",
       "      <td>0.0</td>\n",
       "      <td>25.0</td>\n",
       "      <td>1.0</td>\n",
       "      <td>0.0</td>\n",
       "      <td>0.0</td>\n",
       "      <td>1.0</td>\n",
       "      <td>0.0</td>\n",
       "      <td>...</td>\n",
       "      <td>0.0</td>\n",
       "      <td>1.0</td>\n",
       "      <td>3.0</td>\n",
       "      <td>0.0</td>\n",
       "      <td>0.0</td>\n",
       "      <td>0.0</td>\n",
       "      <td>0.0</td>\n",
       "      <td>7.0</td>\n",
       "      <td>6.0</td>\n",
       "      <td>1.0</td>\n",
       "    </tr>\n",
       "    <tr>\n",
       "      <th>2</th>\n",
       "      <td>0.0</td>\n",
       "      <td>1.0</td>\n",
       "      <td>1.0</td>\n",
       "      <td>1.0</td>\n",
       "      <td>28.0</td>\n",
       "      <td>0.0</td>\n",
       "      <td>0.0</td>\n",
       "      <td>0.0</td>\n",
       "      <td>0.0</td>\n",
       "      <td>1.0</td>\n",
       "      <td>...</td>\n",
       "      <td>1.0</td>\n",
       "      <td>1.0</td>\n",
       "      <td>5.0</td>\n",
       "      <td>30.0</td>\n",
       "      <td>30.0</td>\n",
       "      <td>1.0</td>\n",
       "      <td>0.0</td>\n",
       "      <td>9.0</td>\n",
       "      <td>4.0</td>\n",
       "      <td>8.0</td>\n",
       "    </tr>\n",
       "    <tr>\n",
       "      <th>3</th>\n",
       "      <td>0.0</td>\n",
       "      <td>1.0</td>\n",
       "      <td>0.0</td>\n",
       "      <td>1.0</td>\n",
       "      <td>27.0</td>\n",
       "      <td>0.0</td>\n",
       "      <td>0.0</td>\n",
       "      <td>0.0</td>\n",
       "      <td>1.0</td>\n",
       "      <td>1.0</td>\n",
       "      <td>...</td>\n",
       "      <td>1.0</td>\n",
       "      <td>0.0</td>\n",
       "      <td>2.0</td>\n",
       "      <td>0.0</td>\n",
       "      <td>0.0</td>\n",
       "      <td>0.0</td>\n",
       "      <td>0.0</td>\n",
       "      <td>11.0</td>\n",
       "      <td>3.0</td>\n",
       "      <td>6.0</td>\n",
       "    </tr>\n",
       "    <tr>\n",
       "      <th>4</th>\n",
       "      <td>0.0</td>\n",
       "      <td>1.0</td>\n",
       "      <td>1.0</td>\n",
       "      <td>1.0</td>\n",
       "      <td>24.0</td>\n",
       "      <td>0.0</td>\n",
       "      <td>0.0</td>\n",
       "      <td>0.0</td>\n",
       "      <td>1.0</td>\n",
       "      <td>1.0</td>\n",
       "      <td>...</td>\n",
       "      <td>1.0</td>\n",
       "      <td>0.0</td>\n",
       "      <td>2.0</td>\n",
       "      <td>3.0</td>\n",
       "      <td>0.0</td>\n",
       "      <td>0.0</td>\n",
       "      <td>0.0</td>\n",
       "      <td>11.0</td>\n",
       "      <td>5.0</td>\n",
       "      <td>4.0</td>\n",
       "    </tr>\n",
       "  </tbody>\n",
       "</table>\n",
       "<p>5 rows × 22 columns</p>\n",
       "</div>"
      ],
      "text/plain": [
       "   Diabetes_binary  HighBP  HighChol  CholCheck   BMI  Smoker  Stroke  \\\n",
       "0              0.0     1.0       1.0        1.0  40.0     1.0     0.0   \n",
       "1              0.0     0.0       0.0        0.0  25.0     1.0     0.0   \n",
       "2              0.0     1.0       1.0        1.0  28.0     0.0     0.0   \n",
       "3              0.0     1.0       0.0        1.0  27.0     0.0     0.0   \n",
       "4              0.0     1.0       1.0        1.0  24.0     0.0     0.0   \n",
       "\n",
       "   HeartDiseaseorAttack  PhysActivity  Fruits  ...  AnyHealthcare  \\\n",
       "0                   0.0           0.0     0.0  ...            1.0   \n",
       "1                   0.0           1.0     0.0  ...            0.0   \n",
       "2                   0.0           0.0     1.0  ...            1.0   \n",
       "3                   0.0           1.0     1.0  ...            1.0   \n",
       "4                   0.0           1.0     1.0  ...            1.0   \n",
       "\n",
       "   NoDocbcCost  GenHlth  MentHlth  PhysHlth  DiffWalk  Sex   Age  Education  \\\n",
       "0          0.0      5.0      18.0      15.0       1.0  0.0   9.0        4.0   \n",
       "1          1.0      3.0       0.0       0.0       0.0  0.0   7.0        6.0   \n",
       "2          1.0      5.0      30.0      30.0       1.0  0.0   9.0        4.0   \n",
       "3          0.0      2.0       0.0       0.0       0.0  0.0  11.0        3.0   \n",
       "4          0.0      2.0       3.0       0.0       0.0  0.0  11.0        5.0   \n",
       "\n",
       "   Income  \n",
       "0     3.0  \n",
       "1     1.0  \n",
       "2     8.0  \n",
       "3     6.0  \n",
       "4     4.0  \n",
       "\n",
       "[5 rows x 22 columns]"
      ]
     },
     "execution_count": 4,
     "metadata": {},
     "output_type": "execute_result"
    }
   ],
   "source": [
    "df.head()"
   ]
  },
  {
   "cell_type": "code",
   "execution_count": 48,
   "id": "b022e45b",
   "metadata": {},
   "outputs": [
    {
     "data": {
      "text/plain": [
       "0.0    0.860667\n",
       "1.0    0.139333\n",
       "Name: Diabetes_binary, dtype: float64"
      ]
     },
     "execution_count": 48,
     "metadata": {},
     "output_type": "execute_result"
    }
   ],
   "source": [
    "df.Diabetes_binary.value_counts(normalize=True)"
   ]
  },
  {
   "cell_type": "code",
   "execution_count": 185,
   "id": "5d0ea9f3",
   "metadata": {},
   "outputs": [
    {
     "data": {
      "image/png": "[encoded data removed]",
      "text/plain": [
       "<Figure size 432x288 with 1 Axes>"
      ]
     },
     "metadata": {},
     "output_type": "display_data"
    }
   ],
   "source": [
    "df.Diabetes_binary.value_counts(normalize=True).plot(kind='bar')\n",
    "plt.title(\"Distribution of Diabetes\")\n",
    "plt.xlabel(\"Diabetes\")\n",
    "plt.ylabel(\"Normalize count\")\n",
    "plt.show()"
   ]
  },
  {
   "cell_type": "code",
   "execution_count": 186,
   "id": "0c47d027",
   "metadata": {},
   "outputs": [
    {
     "data": {
      "text/plain": [
       "0.0    0.559658\n",
       "1.0    0.440342\n",
       "Name: Sex, dtype: float64"
      ]
     },
     "execution_count": 186,
     "metadata": {},
     "output_type": "execute_result"
    }
   ],
   "source": [
    "df.Sex.value_counts(normalize=True)"
   ]
  },
  {
   "cell_type": "code",
   "execution_count": 187,
   "id": "6871ee54",
   "metadata": {},
   "outputs": [
    {
     "data": {
      "image/png": "[encoded data removed]",
      "text/plain": [
       "<Figure size 504x288 with 1 Axes>"
      ]
     },
     "metadata": {},
     "output_type": "display_data"
    }
   ],
   "source": [
    "plt.figure(figsize=(7, 4))\n",
    "sns.countplot(data = df, x = 'Sex', hue='Diabetes_binary', dodge=False)\n",
    "plt.title(\"Sex countplot by Diabetes\")\n",
    "plt.show()"
   ]
  },
  {
   "cell_type": "markdown",
   "id": "2f8b6c5d",
   "metadata": {},
   "source": [
    "## Data Cleaning"
   ]
  },
  {
   "cell_type": "code",
   "execution_count": 188,
   "id": "21395667",
   "metadata": {},
   "outputs": [
    {
     "name": "stdout",
     "output_type": "stream",
     "text": [
      "Total N/A: 0\n"
     ]
    }
   ],
   "source": [
    "print(\"Total N/A:\", df.isnull().sum().sum())"
   ]
  },
  {
   "cell_type": "code",
   "execution_count": 189,
   "id": "33b87f66",
   "metadata": {},
   "outputs": [
    {
     "data": {
      "text/plain": [
       "Diabetes_binary         float64\n",
       "HighBP                  float64\n",
       "HighChol                float64\n",
       "CholCheck               float64\n",
       "BMI                     float64\n",
       "Smoker                  float64\n",
       "Stroke                  float64\n",
       "HeartDiseaseorAttack    float64\n",
       "PhysActivity            float64\n",
       "Fruits                  float64\n",
       "Veggies                 float64\n",
       "HvyAlcoholConsump       float64\n",
       "AnyHealthcare           float64\n",
       "NoDocbcCost             float64\n",
       "GenHlth                 float64\n",
       "MentHlth                float64\n",
       "PhysHlth                float64\n",
       "DiffWalk                float64\n",
       "Sex                     float64\n",
       "Age                     float64\n",
       "Education               float64\n",
       "Income                  float64\n",
       "dtype: object"
      ]
     },
     "execution_count": 189,
     "metadata": {},
     "output_type": "execute_result"
    }
   ],
   "source": [
    "df.dtypes"
   ]
  },
  {
   "cell_type": "markdown",
   "id": "b6fa6526",
   "metadata": {},
   "source": [
    "## Exploratory Data Analysis"
   ]
  },
  {
   "cell_type": "code",
   "execution_count": 190,
   "id": "a270f66b",
   "metadata": {},
   "outputs": [
    {
     "data": {
      "text/plain": [
       "Index(['Diabetes_binary', 'HighBP', 'HighChol', 'CholCheck', 'BMI', 'Smoker',\n",
       "       'Stroke', 'HeartDiseaseorAttack', 'PhysActivity', 'Fruits', 'Veggies',\n",
       "       'HvyAlcoholConsump', 'AnyHealthcare', 'NoDocbcCost', 'GenHlth',\n",
       "       'MentHlth', 'PhysHlth', 'DiffWalk', 'Sex', 'Age', 'Education',\n",
       "       'Income'],\n",
       "      dtype='object')"
      ]
     },
     "execution_count": 190,
     "metadata": {},
     "output_type": "execute_result"
    }
   ],
   "source": [
    "df.columns"
   ]
  },
  {
   "cell_type": "code",
   "execution_count": 191,
   "id": "73d5bb97",
   "metadata": {},
   "outputs": [
    {
     "data": {
      "text/html": [
       "<div>\n",
       "<style scoped>\n",
       "    .dataframe tbody tr th:only-of-type {\n",
       "        vertical-align: middle;\n",
       "    }\n",
       "\n",
       "    .dataframe tbody tr th {\n",
       "        vertical-align: top;\n",
       "    }\n",
       "\n",
       "    .dataframe thead th {\n",
       "        text-align: right;\n",
       "    }\n",
       "</style>\n",
       "<table border=\"1\" class=\"dataframe\">\n",
       "  <thead>\n",
       "    <tr style=\"text-align: right;\">\n",
       "      <th></th>\n",
       "      <th>Diabetes_binary</th>\n",
       "      <th>HighBP</th>\n",
       "      <th>HighChol</th>\n",
       "      <th>CholCheck</th>\n",
       "      <th>BMI</th>\n",
       "      <th>Smoker</th>\n",
       "      <th>Stroke</th>\n",
       "      <th>HeartDiseaseorAttack</th>\n",
       "      <th>PhysActivity</th>\n",
       "      <th>Fruits</th>\n",
       "      <th>...</th>\n",
       "      <th>AnyHealthcare</th>\n",
       "      <th>NoDocbcCost</th>\n",
       "      <th>GenHlth</th>\n",
       "      <th>MentHlth</th>\n",
       "      <th>PhysHlth</th>\n",
       "      <th>DiffWalk</th>\n",
       "      <th>Sex</th>\n",
       "      <th>Age</th>\n",
       "      <th>Education</th>\n",
       "      <th>Income</th>\n",
       "    </tr>\n",
       "  </thead>\n",
       "  <tbody>\n",
       "    <tr>\n",
       "      <th>0</th>\n",
       "      <td>0.0</td>\n",
       "      <td>1.0</td>\n",
       "      <td>1.0</td>\n",
       "      <td>1.0</td>\n",
       "      <td>40.0</td>\n",
       "      <td>1.0</td>\n",
       "      <td>0.0</td>\n",
       "      <td>0.0</td>\n",
       "      <td>0.0</td>\n",
       "      <td>0.0</td>\n",
       "      <td>...</td>\n",
       "      <td>1.0</td>\n",
       "      <td>0.0</td>\n",
       "      <td>5.0</td>\n",
       "      <td>18.0</td>\n",
       "      <td>15.0</td>\n",
       "      <td>1.0</td>\n",
       "      <td>0.0</td>\n",
       "      <td>9.0</td>\n",
       "      <td>4.0</td>\n",
       "      <td>3.0</td>\n",
       "    </tr>\n",
       "    <tr>\n",
       "      <th>1</th>\n",
       "      <td>0.0</td>\n",
       "      <td>0.0</td>\n",
       "      <td>0.0</td>\n",
       "      <td>0.0</td>\n",
       "      <td>25.0</td>\n",
       "      <td>1.0</td>\n",
       "      <td>0.0</td>\n",
       "      <td>0.0</td>\n",
       "      <td>1.0</td>\n",
       "      <td>0.0</td>\n",
       "      <td>...</td>\n",
       "      <td>0.0</td>\n",
       "      <td>1.0</td>\n",
       "      <td>3.0</td>\n",
       "      <td>0.0</td>\n",
       "      <td>0.0</td>\n",
       "      <td>0.0</td>\n",
       "      <td>0.0</td>\n",
       "      <td>7.0</td>\n",
       "      <td>6.0</td>\n",
       "      <td>1.0</td>\n",
       "    </tr>\n",
       "    <tr>\n",
       "      <th>2</th>\n",
       "      <td>0.0</td>\n",
       "      <td>1.0</td>\n",
       "      <td>1.0</td>\n",
       "      <td>1.0</td>\n",
       "      <td>28.0</td>\n",
       "      <td>0.0</td>\n",
       "      <td>0.0</td>\n",
       "      <td>0.0</td>\n",
       "      <td>0.0</td>\n",
       "      <td>1.0</td>\n",
       "      <td>...</td>\n",
       "      <td>1.0</td>\n",
       "      <td>1.0</td>\n",
       "      <td>5.0</td>\n",
       "      <td>30.0</td>\n",
       "      <td>30.0</td>\n",
       "      <td>1.0</td>\n",
       "      <td>0.0</td>\n",
       "      <td>9.0</td>\n",
       "      <td>4.0</td>\n",
       "      <td>8.0</td>\n",
       "    </tr>\n",
       "    <tr>\n",
       "      <th>3</th>\n",
       "      <td>0.0</td>\n",
       "      <td>1.0</td>\n",
       "      <td>0.0</td>\n",
       "      <td>1.0</td>\n",
       "      <td>27.0</td>\n",
       "      <td>0.0</td>\n",
       "      <td>0.0</td>\n",
       "      <td>0.0</td>\n",
       "      <td>1.0</td>\n",
       "      <td>1.0</td>\n",
       "      <td>...</td>\n",
       "      <td>1.0</td>\n",
       "      <td>0.0</td>\n",
       "      <td>2.0</td>\n",
       "      <td>0.0</td>\n",
       "      <td>0.0</td>\n",
       "      <td>0.0</td>\n",
       "      <td>0.0</td>\n",
       "      <td>11.0</td>\n",
       "      <td>3.0</td>\n",
       "      <td>6.0</td>\n",
       "    </tr>\n",
       "    <tr>\n",
       "      <th>4</th>\n",
       "      <td>0.0</td>\n",
       "      <td>1.0</td>\n",
       "      <td>1.0</td>\n",
       "      <td>1.0</td>\n",
       "      <td>24.0</td>\n",
       "      <td>0.0</td>\n",
       "      <td>0.0</td>\n",
       "      <td>0.0</td>\n",
       "      <td>1.0</td>\n",
       "      <td>1.0</td>\n",
       "      <td>...</td>\n",
       "      <td>1.0</td>\n",
       "      <td>0.0</td>\n",
       "      <td>2.0</td>\n",
       "      <td>3.0</td>\n",
       "      <td>0.0</td>\n",
       "      <td>0.0</td>\n",
       "      <td>0.0</td>\n",
       "      <td>11.0</td>\n",
       "      <td>5.0</td>\n",
       "      <td>4.0</td>\n",
       "    </tr>\n",
       "  </tbody>\n",
       "</table>\n",
       "<p>5 rows × 22 columns</p>\n",
       "</div>"
      ],
      "text/plain": [
       "   Diabetes_binary  HighBP  HighChol  CholCheck   BMI  Smoker  Stroke  \\\n",
       "0              0.0     1.0       1.0        1.0  40.0     1.0     0.0   \n",
       "1              0.0     0.0       0.0        0.0  25.0     1.0     0.0   \n",
       "2              0.0     1.0       1.0        1.0  28.0     0.0     0.0   \n",
       "3              0.0     1.0       0.0        1.0  27.0     0.0     0.0   \n",
       "4              0.0     1.0       1.0        1.0  24.0     0.0     0.0   \n",
       "\n",
       "   HeartDiseaseorAttack  PhysActivity  Fruits  ...  AnyHealthcare  \\\n",
       "0                   0.0           0.0     0.0  ...            1.0   \n",
       "1                   0.0           1.0     0.0  ...            0.0   \n",
       "2                   0.0           0.0     1.0  ...            1.0   \n",
       "3                   0.0           1.0     1.0  ...            1.0   \n",
       "4                   0.0           1.0     1.0  ...            1.0   \n",
       "\n",
       "   NoDocbcCost  GenHlth  MentHlth  PhysHlth  DiffWalk  Sex   Age  Education  \\\n",
       "0          0.0      5.0      18.0      15.0       1.0  0.0   9.0        4.0   \n",
       "1          1.0      3.0       0.0       0.0       0.0  0.0   7.0        6.0   \n",
       "2          1.0      5.0      30.0      30.0       1.0  0.0   9.0        4.0   \n",
       "3          0.0      2.0       0.0       0.0       0.0  0.0  11.0        3.0   \n",
       "4          0.0      2.0       3.0       0.0       0.0  0.0  11.0        5.0   \n",
       "\n",
       "   Income  \n",
       "0     3.0  \n",
       "1     1.0  \n",
       "2     8.0  \n",
       "3     6.0  \n",
       "4     4.0  \n",
       "\n",
       "[5 rows x 22 columns]"
      ]
     },
     "execution_count": 191,
     "metadata": {},
     "output_type": "execute_result"
    }
   ],
   "source": [
    "df.head()"
   ]
  },
  {
   "cell_type": "markdown",
   "id": "815aad29",
   "metadata": {},
   "source": [
    "---\n",
    "`Age` columns as a range of values between 1 and 13, this is because each value correspond to a range of 5 years:\n",
    "- **1:** 18-24.\n",
    "- **2:** 25-29.\n",
    "- **3:** 30-34.\n",
    "- ...\n",
    "- **13:** 80 or older.\n",
    "\n",
    "So in the next plot we can see the ranges of ages with most cases of diabetes, people with an age between **65-69** (10) are more likely to have diabetes."
   ]
  },
  {
   "cell_type": "code",
   "execution_count": 192,
   "id": "88b890e8",
   "metadata": {},
   "outputs": [
    {
     "data": {
      "image/png": "[encoded data removed]",
      "text/plain": [
       "<Figure size 576x288 with 1 Axes>"
      ]
     },
     "metadata": {},
     "output_type": "display_data"
    }
   ],
   "source": [
    "plt.figure(figsize=(8,4))\n",
    "temp = df[df.Diabetes_binary == 1].groupby('Age').Diabetes_binary.count()\n",
    "temp.plot(kind=\"bar\", color='navy')\n",
    "plt.title(\"Diabetes by age range\")\n",
    "plt.ylabel(\"count\")\n",
    "plt.show()"
   ]
  },
  {
   "cell_type": "markdown",
   "id": "12a0cf42",
   "metadata": {},
   "source": [
    "---\n",
    "In the next plot we can see that if you have high cholesterol levels you are basically **twice** as likely to have diabetes as people without high cholesterol.\n",
    "\n",
    "The second plot you us that the people that checks their cholesterol level in the past 5 years have the most **negatives** diabetes cases, this can be due the people that didn't check their cholesterol dont receive an alert to avoid diabetes."
   ]
  },
  {
   "cell_type": "code",
   "execution_count": 193,
   "id": "057df6f9",
   "metadata": {},
   "outputs": [
    {
     "data": {
      "image/png": "[encoded data removed]",
      "text/plain": [
       "<Figure size 1080x360 with 2 Axes>"
      ]
     },
     "metadata": {},
     "output_type": "display_data"
    }
   ],
   "source": [
    "fig, axes = plt.subplots(1, 2, figsize=(15, 5))\n",
    "sns.countplot(data = df[df.Diabetes_binary == 1], x = 'HighChol', hue = 'Diabetes_binary', ax=axes[0])\n",
    "axes[0].set_title(\"Diabetes with High cholesterol\")\n",
    "sns.countplot(data = df[df.Diabetes_binary == 0], x = 'Diabetes_binary', hue = 'CholCheck', ax=axes[1])\n",
    "axes[1].set_title(\"People that checks the cholesterol in 5 years\")\n",
    "plt.show()"
   ]
  },
  {
   "cell_type": "markdown",
   "id": "11b5bbc2",
   "metadata": {},
   "source": [
    "---\n",
    "The following plot shows that people who do physical activities are **less likely to have diabetes.**\n",
    "\n",
    "Since exercising helps improve cholesterol levels, blood pressure and body weight, also one of the most important factors is that it helps improve resistance to insulin."
   ]
  },
  {
   "cell_type": "code",
   "execution_count": 194,
   "id": "70e25822",
   "metadata": {},
   "outputs": [
    {
     "data": {
      "image/png": "[encoded data removed]",
      "text/plain": [
       "<Figure size 432x288 with 1 Axes>"
      ]
     },
     "metadata": {},
     "output_type": "display_data"
    }
   ],
   "source": [
    "sns.countplot(data = df, x = 'PhysActivity', hue = 'Diabetes_binary')\n",
    "plt.show()"
   ]
  },
  {
   "cell_type": "markdown",
   "id": "3670c563",
   "metadata": {},
   "source": [
    "---\n",
    "The following graph shows us that the column `BMI` is not a factor related to diabetes, since it can be seen that both categories of the column `diabetes` (0, 1) have relatively the same **distribution**.\n"
   ]
  },
  {
   "cell_type": "code",
   "execution_count": 195,
   "id": "29d5fefe",
   "metadata": {},
   "outputs": [
    {
     "data": {
      "text/plain": [
       "<AxesSubplot:xlabel='Diabetes_binary', ylabel='BMI'>"
      ]
     },
     "execution_count": 195,
     "metadata": {},
     "output_type": "execute_result"
    },
    {
     "data": {
      "image/png": "[encoded data removed]",
      "text/plain": [
       "<Figure size 1080x360 with 2 Axes>"
      ]
     },
     "metadata": {},
     "output_type": "display_data"
    }
   ],
   "source": [
    "fig, axes = plt.subplots(1, 2, figsize=(15, 5))\n",
    "sns.violinplot(data = df, x = 'Diabetes_binary', y = 'BMI',hue='Sex', ax=axes[0])\n",
    "sns.stripplot(data = df, x = 'Diabetes_binary', y = 'BMI', hue='Sex', ax=axes[1])"
   ]
  },
  {
   "cell_type": "markdown",
   "id": "157f2e1a",
   "metadata": {},
   "source": [
    "---\n",
    "Next we created a plot that shows the amount of people that consume fruits and vegetables. As we can see, there is more risk of having Diabetes if people doesn't eat vegetables or fruits.   "
   ]
  },
  {
   "cell_type": "code",
   "execution_count": 196,
   "id": "713e9aef",
   "metadata": {},
   "outputs": [
    {
     "data": {
      "image/png": "[encoded data removed]",
      "text/plain": [
       "<Figure size 1080x360 with 2 Axes>"
      ]
     },
     "metadata": {},
     "output_type": "display_data"
    }
   ],
   "source": [
    "fig, axes = plt.subplots(1, 2, figsize=(15, 5), sharey=True)\n",
    "fig.suptitle('Number of Diabetes Diagnosis on people that consume fruits and vegetables')\n",
    "\n",
    "# fruits\n",
    "sns.countplot(data = df, x = 'Fruits', hue = 'Diabetes_binary', ax=axes[0])\n",
    "axes[0].set_title(\"Fruits\")\n",
    "axes[0].set_xlabel(\"Fruit consumer\")\n",
    "axes[0].set_ylabel(\"Number of Diabetes Diagnosis\")\n",
    "\n",
    "# veggie\n",
    "sns.countplot(data = df, x = 'Veggies', hue = 'Diabetes_binary', ax=axes[1])\n",
    "axes[1].set_title(\"Vegetables\")\n",
    "axes[1].set_xlabel(\"Vegetable consumer\")\n",
    "axes[1].set_ylabel(\"Number of Diabetes Diagnosis\")\n",
    "\n",
    "plt.show()"
   ]
  },
  {
   "cell_type": "markdown",
   "id": "0305ae86",
   "metadata": {},
   "source": [
    "---\n",
    "Also we have some insights on the Diabetes diagnosis for the people that consumes Alcohol or are Smokers.\n",
    "As we could see in following plot, it seems to not be correlated with Diabetes because of the minimun differences in the positive and negative diagnosis in both subplots. "
   ]
  },
  {
   "cell_type": "code",
   "execution_count": 197,
   "id": "c9c1ad82",
   "metadata": {},
   "outputs": [
    {
     "data": {
      "image/png": "[encoded data removed]",
      "text/plain": [
       "<Figure size 1080x360 with 2 Axes>"
      ]
     },
     "metadata": {},
     "output_type": "display_data"
    }
   ],
   "source": [
    "fig, axes = plt.subplots(1, 2, figsize=(15, 5), sharey=True)\n",
    "fig.suptitle('Number of Diabetes Diagnosis on Smokers and People with Heavy Alcohol Consumption')\n",
    "\n",
    "# fruits\n",
    "sns.countplot(data = df, x = 'Smoker', hue = 'Diabetes_binary', ax=axes[0])\n",
    "axes[0].set_title(\"Smokers\")\n",
    "axes[0].set_ylabel(\"Number of Diabetes Diagnosis\")\n",
    "\n",
    "# veggie\n",
    "sns.countplot(data = df, x = 'HvyAlcoholConsump', hue = 'Diabetes_binary', ax=axes[1])\n",
    "axes[1].set_title(\"Heavy Alcohol Consumption\")\n",
    "axes[1].set_xlabel(\"Heavy Alcohol Consumption\")\n",
    "axes[1].set_ylabel(\"Number of Diabetes Diagnosis\")\n",
    "plt.show()"
   ]
  },
  {
   "cell_type": "markdown",
   "id": "aec3e225",
   "metadata": {},
   "source": [
    "---\n",
    "At the beginning we thought that the `Education` and` Income` columns would not be related to whether the person has diabetes or not, but the following plots do show us a **difference between each of the classes**, as the ratios are quite different between them. So we are going to keep these features in the creation of the model."
   ]
  },
  {
   "cell_type": "code",
   "execution_count": 198,
   "id": "05893004",
   "metadata": {},
   "outputs": [
    {
     "data": {
      "image/png": "[encoded data removed]",
      "text/plain": [
       "<Figure size 1080x720 with 4 Axes>"
      ]
     },
     "metadata": {},
     "output_type": "display_data"
    }
   ],
   "source": [
    "fig, axes = plt.subplots(2, 2, figsize=(15, 10))\n",
    "sns.countplot(data = df, x = 'Education', hue='Diabetes_binary', ax=axes[0, 0])\n",
    "sns.countplot(data = df, x = 'Income', hue = 'Diabetes_binary', ax=axes[0, 1])\n",
    "axes[0, 0].set_title(\"Diabetes by Education level\")\n",
    "axes[0, 1].set_title(\"Diabetes by Income level\")\n",
    "temp0 = df[df.Diabetes_binary == 0].groupby('Education').Education.count()\n",
    "temp1 = df[df.Diabetes_binary == 1].groupby('Education').Education.count()\n",
    "temp2 = df[df.Diabetes_binary == 0].groupby('Income').Income.count()\n",
    "temp3 = df[df.Diabetes_binary == 1].groupby('Income').Income.count()\n",
    "(temp1/temp0).plot(kind='bar', ax= axes[1, 0], color='#2C3E50')\n",
    "(temp3/temp2).plot(kind='bar', ax= axes[1, 1], color ='#2C3E50')\n",
    "axes[1,0].set_title(\"Diabetes/No Diabetes Ratio by Education\")\n",
    "axes[1,1].set_title(\"Diabetes/No Diabetes Ratio by Income\")\n",
    "plt.show()"
   ]
  },
  {
   "cell_type": "markdown",
   "id": "eeb40bf5",
   "metadata": {},
   "source": [
    "## Feature Engineering & Model Creation"
   ]
  },
  {
   "cell_type": "code",
   "execution_count": 5,
   "id": "d2f86959",
   "metadata": {},
   "outputs": [],
   "source": [
    "from sklearn.preprocessing import StandardScaler\n",
    "from sklearn.ensemble import RandomForestClassifier\n",
    "from sklearn.model_selection import train_test_split, GridSearchCV\n",
    "from sklearn.metrics import roc_auc_score, accuracy_score, f1_score"
   ]
  },
  {
   "cell_type": "code",
   "execution_count": 200,
   "id": "62e4e64a",
   "metadata": {},
   "outputs": [
    {
     "data": {
      "image/png": "[encoded data removed]",
      "text/plain": [
       "<Figure size 720x504 with 2 Axes>"
      ]
     },
     "metadata": {},
     "output_type": "display_data"
    }
   ],
   "source": [
    "df_corr = df.corr()\n",
    "plt.figure(figsize=(10, 7))\n",
    "sns.heatmap(df_corr)\n",
    "plt.show()"
   ]
  },
  {
   "cell_type": "code",
   "execution_count": 6,
   "id": "9aedfd0f",
   "metadata": {},
   "outputs": [],
   "source": [
    "features = df.drop('Diabetes_binary', axis=1)\n",
    "target = df.Diabetes_binary"
   ]
  },
  {
   "cell_type": "code",
   "execution_count": 202,
   "id": "9e5146f8",
   "metadata": {},
   "outputs": [
    {
     "name": "stdout",
     "output_type": "stream",
     "text": [
      "----- Uniques values in each column -----\n",
      "Diabetes_binary uniques: 2\n",
      "HighBP uniques: 2\n",
      "HighChol uniques: 2\n",
      "CholCheck uniques: 2\n",
      "BMI uniques: 84\n",
      "Smoker uniques: 2\n",
      "Stroke uniques: 2\n",
      "HeartDiseaseorAttack uniques: 2\n",
      "PhysActivity uniques: 2\n",
      "Fruits uniques: 2\n",
      "Veggies uniques: 2\n",
      "HvyAlcoholConsump uniques: 2\n",
      "AnyHealthcare uniques: 2\n",
      "NoDocbcCost uniques: 2\n",
      "GenHlth uniques: 5\n",
      "MentHlth uniques: 31\n",
      "PhysHlth uniques: 31\n",
      "DiffWalk uniques: 2\n",
      "Sex uniques: 2\n",
      "Age uniques: 13\n",
      "Education uniques: 6\n",
      "Income uniques: 8\n"
     ]
    }
   ],
   "source": [
    "print(\"----- Uniques values in each column -----\")\n",
    "for i in df.columns:\n",
    "    print(f\"{i} uniques: {len(df[i].unique())}\")"
   ]
  },
  {
   "cell_type": "markdown",
   "id": "5f60d4d2",
   "metadata": {},
   "source": [
    "### Feature Scaling"
   ]
  },
  {
   "cell_type": "code",
   "execution_count": 7,
   "id": "be4d7a4c",
   "metadata": {},
   "outputs": [
    {
     "data": {
      "text/html": [
       "<div>\n",
       "<style scoped>\n",
       "    .dataframe tbody tr th:only-of-type {\n",
       "        vertical-align: middle;\n",
       "    }\n",
       "\n",
       "    .dataframe tbody tr th {\n",
       "        vertical-align: top;\n",
       "    }\n",
       "\n",
       "    .dataframe thead th {\n",
       "        text-align: right;\n",
       "    }\n",
       "</style>\n",
       "<table border=\"1\" class=\"dataframe\">\n",
       "  <thead>\n",
       "    <tr style=\"text-align: right;\">\n",
       "      <th></th>\n",
       "      <th>HighBP</th>\n",
       "      <th>HighChol</th>\n",
       "      <th>CholCheck</th>\n",
       "      <th>BMI</th>\n",
       "      <th>Smoker</th>\n",
       "      <th>Stroke</th>\n",
       "      <th>HeartDiseaseorAttack</th>\n",
       "      <th>PhysActivity</th>\n",
       "      <th>Fruits</th>\n",
       "      <th>Veggies</th>\n",
       "      <th>...</th>\n",
       "      <th>AnyHealthcare</th>\n",
       "      <th>NoDocbcCost</th>\n",
       "      <th>GenHlth</th>\n",
       "      <th>MentHlth</th>\n",
       "      <th>PhysHlth</th>\n",
       "      <th>DiffWalk</th>\n",
       "      <th>Sex</th>\n",
       "      <th>Age</th>\n",
       "      <th>Education</th>\n",
       "      <th>Income</th>\n",
       "    </tr>\n",
       "  </thead>\n",
       "  <tbody>\n",
       "    <tr>\n",
       "      <th>0</th>\n",
       "      <td>1.0</td>\n",
       "      <td>1.0</td>\n",
       "      <td>1.0</td>\n",
       "      <td>1.757936</td>\n",
       "      <td>1.0</td>\n",
       "      <td>0.0</td>\n",
       "      <td>0.0</td>\n",
       "      <td>0.0</td>\n",
       "      <td>0.0</td>\n",
       "      <td>1.0</td>\n",
       "      <td>...</td>\n",
       "      <td>1.0</td>\n",
       "      <td>0.0</td>\n",
       "      <td>5.0</td>\n",
       "      <td>18.0</td>\n",
       "      <td>15.0</td>\n",
       "      <td>1.0</td>\n",
       "      <td>0.0</td>\n",
       "      <td>9.0</td>\n",
       "      <td>4.0</td>\n",
       "      <td>3.0</td>\n",
       "    </tr>\n",
       "    <tr>\n",
       "      <th>1</th>\n",
       "      <td>0.0</td>\n",
       "      <td>0.0</td>\n",
       "      <td>0.0</td>\n",
       "      <td>-0.511806</td>\n",
       "      <td>1.0</td>\n",
       "      <td>0.0</td>\n",
       "      <td>0.0</td>\n",
       "      <td>1.0</td>\n",
       "      <td>0.0</td>\n",
       "      <td>0.0</td>\n",
       "      <td>...</td>\n",
       "      <td>0.0</td>\n",
       "      <td>1.0</td>\n",
       "      <td>3.0</td>\n",
       "      <td>0.0</td>\n",
       "      <td>0.0</td>\n",
       "      <td>0.0</td>\n",
       "      <td>0.0</td>\n",
       "      <td>7.0</td>\n",
       "      <td>6.0</td>\n",
       "      <td>1.0</td>\n",
       "    </tr>\n",
       "    <tr>\n",
       "      <th>2</th>\n",
       "      <td>1.0</td>\n",
       "      <td>1.0</td>\n",
       "      <td>1.0</td>\n",
       "      <td>-0.057858</td>\n",
       "      <td>0.0</td>\n",
       "      <td>0.0</td>\n",
       "      <td>0.0</td>\n",
       "      <td>0.0</td>\n",
       "      <td>1.0</td>\n",
       "      <td>0.0</td>\n",
       "      <td>...</td>\n",
       "      <td>1.0</td>\n",
       "      <td>1.0</td>\n",
       "      <td>5.0</td>\n",
       "      <td>30.0</td>\n",
       "      <td>30.0</td>\n",
       "      <td>1.0</td>\n",
       "      <td>0.0</td>\n",
       "      <td>9.0</td>\n",
       "      <td>4.0</td>\n",
       "      <td>8.0</td>\n",
       "    </tr>\n",
       "    <tr>\n",
       "      <th>3</th>\n",
       "      <td>1.0</td>\n",
       "      <td>0.0</td>\n",
       "      <td>1.0</td>\n",
       "      <td>-0.209174</td>\n",
       "      <td>0.0</td>\n",
       "      <td>0.0</td>\n",
       "      <td>0.0</td>\n",
       "      <td>1.0</td>\n",
       "      <td>1.0</td>\n",
       "      <td>1.0</td>\n",
       "      <td>...</td>\n",
       "      <td>1.0</td>\n",
       "      <td>0.0</td>\n",
       "      <td>2.0</td>\n",
       "      <td>0.0</td>\n",
       "      <td>0.0</td>\n",
       "      <td>0.0</td>\n",
       "      <td>0.0</td>\n",
       "      <td>11.0</td>\n",
       "      <td>3.0</td>\n",
       "      <td>6.0</td>\n",
       "    </tr>\n",
       "    <tr>\n",
       "      <th>4</th>\n",
       "      <td>1.0</td>\n",
       "      <td>1.0</td>\n",
       "      <td>1.0</td>\n",
       "      <td>-0.663122</td>\n",
       "      <td>0.0</td>\n",
       "      <td>0.0</td>\n",
       "      <td>0.0</td>\n",
       "      <td>1.0</td>\n",
       "      <td>1.0</td>\n",
       "      <td>1.0</td>\n",
       "      <td>...</td>\n",
       "      <td>1.0</td>\n",
       "      <td>0.0</td>\n",
       "      <td>2.0</td>\n",
       "      <td>3.0</td>\n",
       "      <td>0.0</td>\n",
       "      <td>0.0</td>\n",
       "      <td>0.0</td>\n",
       "      <td>11.0</td>\n",
       "      <td>5.0</td>\n",
       "      <td>4.0</td>\n",
       "    </tr>\n",
       "  </tbody>\n",
       "</table>\n",
       "<p>5 rows × 21 columns</p>\n",
       "</div>"
      ],
      "text/plain": [
       "   HighBP  HighChol  CholCheck       BMI  Smoker  Stroke  \\\n",
       "0     1.0       1.0        1.0  1.757936     1.0     0.0   \n",
       "1     0.0       0.0        0.0 -0.511806     1.0     0.0   \n",
       "2     1.0       1.0        1.0 -0.057858     0.0     0.0   \n",
       "3     1.0       0.0        1.0 -0.209174     0.0     0.0   \n",
       "4     1.0       1.0        1.0 -0.663122     0.0     0.0   \n",
       "\n",
       "   HeartDiseaseorAttack  PhysActivity  Fruits  Veggies  ...  AnyHealthcare  \\\n",
       "0                   0.0           0.0     0.0      1.0  ...            1.0   \n",
       "1                   0.0           1.0     0.0      0.0  ...            0.0   \n",
       "2                   0.0           0.0     1.0      0.0  ...            1.0   \n",
       "3                   0.0           1.0     1.0      1.0  ...            1.0   \n",
       "4                   0.0           1.0     1.0      1.0  ...            1.0   \n",
       "\n",
       "   NoDocbcCost  GenHlth  MentHlth  PhysHlth  DiffWalk  Sex   Age  Education  \\\n",
       "0          0.0      5.0      18.0      15.0       1.0  0.0   9.0        4.0   \n",
       "1          1.0      3.0       0.0       0.0       0.0  0.0   7.0        6.0   \n",
       "2          1.0      5.0      30.0      30.0       1.0  0.0   9.0        4.0   \n",
       "3          0.0      2.0       0.0       0.0       0.0  0.0  11.0        3.0   \n",
       "4          0.0      2.0       3.0       0.0       0.0  0.0  11.0        5.0   \n",
       "\n",
       "   Income  \n",
       "0     3.0  \n",
       "1     1.0  \n",
       "2     8.0  \n",
       "3     6.0  \n",
       "4     4.0  \n",
       "\n",
       "[5 rows x 21 columns]"
      ]
     },
     "execution_count": 7,
     "metadata": {},
     "output_type": "execute_result"
    }
   ],
   "source": [
    "scaler = StandardScaler()\n",
    "t = np.asarray(features.BMI)\n",
    "t = t.reshape(-1, 1)\n",
    "features.BMI = scaler.fit_transform(t)\n",
    "features.head()"
   ]
  },
  {
   "cell_type": "markdown",
   "id": "0ccbef84",
   "metadata": {},
   "source": [
    "### Over-sampling"
   ]
  },
  {
   "cell_type": "code",
   "execution_count": 8,
   "id": "720484ea",
   "metadata": {},
   "outputs": [
    {
     "name": "stdout",
     "output_type": "stream",
     "text": [
      "original dataset shape: Counter({0.0: 218334, 1.0: 35346})\n",
      "Resample dataset shape Counter({0.0: 218334, 1.0: 218334})\n"
     ]
    }
   ],
   "source": [
    "from imblearn.over_sampling import RandomOverSampler\n",
    "\n",
    "rus = RandomOverSampler(random_state=42)\n",
    "x_rus, y_rus = rus.fit_resample(features, target)\n",
    "\n",
    "print('original dataset shape:', Counter(target))\n",
    "print('Resample dataset shape', Counter(y_rus))"
   ]
  },
  {
   "cell_type": "code",
   "execution_count": 10,
   "id": "72dcce7e",
   "metadata": {},
   "outputs": [
    {
     "name": "stdout",
     "output_type": "stream",
     "text": [
      "X_train: (305667, 21)\n",
      "X_test: (131001, 21)\n",
      "y_train: (305667,)\n",
      "y_test: (131001,)\n"
     ]
    }
   ],
   "source": [
    "X_train, X_test, y_train, y_test = train_test_split(x_rus, y_rus, test_size=0.3, random_state=42)\n",
    "print(\"X_train:\", X_train.shape)\n",
    "print(\"X_test:\", X_test.shape)\n",
    "print(\"y_train:\", y_train.shape)\n",
    "print(\"y_test:\", y_test.shape)"
   ]
  },
  {
   "cell_type": "markdown",
   "id": "bf196943",
   "metadata": {},
   "source": [
    "---\n",
    ">### K-Nearest Neighbor"
   ]
  },
  {
   "cell_type": "code",
   "execution_count": 58,
   "id": "b009b788",
   "metadata": {},
   "outputs": [],
   "source": [
    "from sklearn.neighbors import KNeighborsClassifier"
   ]
  },
  {
   "cell_type": "code",
   "execution_count": 59,
   "id": "858106b9",
   "metadata": {},
   "outputs": [],
   "source": [
    "knn = KNeighborsClassifier(n_neighbors=10)\n",
    "knn.fit(X_train, y_train)\n",
    "knn_preds = knn.predict(X_test)"
   ]
  },
  {
   "cell_type": "code",
   "execution_count": 62,
   "id": "f30dbe9f",
   "metadata": {},
   "outputs": [
    {
     "name": "stdout",
     "output_type": "stream",
     "text": [
      "----- K-Nearest Neighbor Metrics -----\n",
      "Accuracy: 0.7747803451882047\n",
      "AUC: 0.7748520221313275\n",
      "F1: 0.7853224093019194\n"
     ]
    }
   ],
   "source": [
    "print(\"----- K-Nearest Neighbor Metrics -----\")\n",
    "print(\"Accuracy:\", accuracy_score(y_test, knn_preds))\n",
    "print(\"AUC:\", roc_auc_score(y_test, knn_preds))\n",
    "print(\"F1:\", f1_score(y_test, knn_preds))"
   ]
  },
  {
   "cell_type": "markdown",
   "id": "0d5e8ff9",
   "metadata": {},
   "source": [
    "---\n",
    ">### XGBClassifier"
   ]
  },
  {
   "cell_type": "code",
   "execution_count": 63,
   "id": "4ef3af32",
   "metadata": {},
   "outputs": [],
   "source": [
    "from xgboost import XGBClassifier"
   ]
  },
  {
   "cell_type": "code",
   "execution_count": 65,
   "id": "88921b8c",
   "metadata": {},
   "outputs": [
    {
     "name": "stdout",
     "output_type": "stream",
     "text": [
      "[14:31:55] WARNING: C:/Users/Administrator/workspace/xgboost-win64_release_1.5.1/src/learner.cc:1115: Starting in XGBoost 1.3.0, the default evaluation metric used with the objective 'binary:logistic' was changed from 'error' to 'logloss'. Explicitly set eval_metric if you'd like to restore the old behavior.\n"
     ]
    }
   ],
   "source": [
    "xgbc = XGBClassifier(n_estimators=1500, max_depth=20)\n",
    "xgbc.fit(X_train, y_train)\n",
    "xgbc_preds = xgbc.predict(X_test)"
   ]
  },
  {
   "cell_type": "code",
   "execution_count": 66,
   "id": "da29a85d",
   "metadata": {},
   "outputs": [
    {
     "name": "stdout",
     "output_type": "stream",
     "text": [
      "----- XGBClassifier Metrics -----\n",
      "Accuracy: 0.9337027961618614\n",
      "AUC: 0.9337791229099801\n",
      "F1: 0.9369880505836857\n"
     ]
    }
   ],
   "source": [
    "print(\"----- XGBClassifier Metrics -----\")\n",
    "print(\"Accuracy:\", accuracy_score(y_test, xgbc_preds))\n",
    "print(\"AUC:\", roc_auc_score(y_test, xgbc_preds))\n",
    "print(\"F1:\", f1_score(y_test, xgbc_preds))"
   ]
  },
  {
   "cell_type": "markdown",
   "id": "cd7e2085",
   "metadata": {},
   "source": [
    "---\n",
    ">### Neuronal Network Model"
   ]
  },
  {
   "cell_type": "code",
   "execution_count": 67,
   "id": "4cc741bc",
   "metadata": {},
   "outputs": [],
   "source": [
    "from sklearn.neural_network import MLPClassifier\n",
    "from sklearn.metrics import accuracy_score, roc_auc_score \n",
    "\n",
    "mlp = MLPClassifier(hidden_layer_sizes=(21,21,21), activation='relu', solver='adam', max_iter=500)\n",
    "mlp.fit(X_train,y_train)\n",
    "\n",
    "predict_train = mlp.predict(X_train)\n",
    "predict_test = mlp.predict(X_test)\n",
    "\n",
    "\n",
    "nn_preds = mlp.predict(X_test)"
   ]
  },
  {
   "cell_type": "code",
   "execution_count": 68,
   "id": "3293940b",
   "metadata": {},
   "outputs": [
    {
     "name": "stdout",
     "output_type": "stream",
     "text": [
      "Accuracy: 0.7565133090587095\n",
      "AUC: 0.7565815163326836\n",
      "F1: 0.7673772416659982\n"
     ]
    }
   ],
   "source": [
    "print(\"Accuracy:\",  accuracy_score(y_test, nn_preds))\n",
    "print(\"AUC:\",  roc_auc_score(y_test, nn_preds))\n",
    "print(\"F1:\", f1_score(y_test, nn_preds))"
   ]
  },
  {
   "cell_type": "markdown",
   "id": "f60d43db",
   "metadata": {},
   "source": [
    "---\n",
    ">### Random Forest "
   ]
  },
  {
   "cell_type": "code",
   "execution_count": 69,
   "id": "206d43f6",
   "metadata": {},
   "outputs": [],
   "source": [
    "from sklearn.ensemble import RandomForestClassifier\n",
    "\n",
    "clf = RandomForestClassifier(n_estimators=1500, random_state=1, max_depth=100, max_samples=10000)\n",
    "clf.fit(X_train, y_train)\n",
    "rf_preds = clf.predict(X_test)"
   ]
  },
  {
   "cell_type": "code",
   "execution_count": 70,
   "id": "81d29dc2",
   "metadata": {},
   "outputs": [
    {
     "name": "stdout",
     "output_type": "stream",
     "text": [
      "Accuracy: 0.7861314035770719\n",
      "AUC: 0.7862234695013852\n",
      "F1: 0.7988772675391055\n"
     ]
    }
   ],
   "source": [
    "print(\"Accuracy:\",  accuracy_score(y_test,rf_preds))\n",
    "print(\"AUC:\",  roc_auc_score(y_test,rf_preds))\n",
    "print(\"F1:\", f1_score(y_test, rf_preds))"
   ]
  },
  {
   "cell_type": "markdown",
   "id": "8e1c80cf",
   "metadata": {},
   "source": [
    "---\n",
    ">### TPOT"
   ]
  },
  {
   "cell_type": "code",
   "execution_count": 12,
   "id": "c496cf40",
   "metadata": {},
   "outputs": [],
   "source": [
    "from tpot import TPOTClassifier\n",
    "from sklearn.model_selection import StratifiedKFold"
   ]
  },
  {
   "cell_type": "code",
   "execution_count": 180,
   "id": "ce4dc054",
   "metadata": {},
   "outputs": [
    {
     "name": "stdout",
     "output_type": "stream",
     "text": [
      "\n",
      "Generation 1 - Current best internal CV score: 0.7673023290504606\n",
      "\n",
      "Generation 2 - Current best internal CV score: 0.7673023290504606\n",
      "\n",
      "Generation 3 - Current best internal CV score: 0.7673023290504606\n",
      "\n",
      "Generation 4 - Current best internal CV score: 0.7673023290504606\n",
      "\n",
      "Best pipeline: RandomForestClassifier(input_matrix, bootstrap=True, criterion=gini, max_features=0.1, min_samples_leaf=20, min_samples_split=13, n_estimators=100)\n"
     ]
    }
   ],
   "source": [
    "cv = StratifiedKFold(n_splits=6)\n",
    "tpot = TPOTClassifier(generations=4, population_size=50, scoring='accuracy', cv=cv, verbosity=2, random_state=1, n_jobs=-1)\n",
    "tpot.fit(X_train, y_train)\n",
    "tpot.export('tpot_cv_best_model.py')"
   ]
  },
  {
   "cell_type": "code",
   "execution_count": 14,
   "id": "8596cf2d",
   "metadata": {},
   "outputs": [],
   "source": [
    "import numpy as np\n",
    "import pandas as pd\n",
    "from sklearn.ensemble import RandomForestClassifier\n",
    "from sklearn.model_selection import train_test_split\n",
    "\n",
    "# Average CV score on the training set was: 0.7673023290504606\n",
    "exported_pipeline = RandomForestClassifier(bootstrap=True, criterion=\"gini\", max_features=0.1, min_samples_leaf=20, min_samples_split=13, n_estimators=100)\n",
    "# Fix random state in exported estimator\n",
    "if hasattr(exported_pipeline, 'random_state'):\n",
    "    setattr(exported_pipeline, 'random_state', 1)\n",
    "\n",
    "exported_pipeline.fit(X_train, y_train)\n",
    "results = exported_pipeline.predict(X_test)"
   ]
  },
  {
   "cell_type": "code",
   "execution_count": 15,
   "id": "e0fbe679",
   "metadata": {},
   "outputs": [
    {
     "name": "stdout",
     "output_type": "stream",
     "text": [
      "----- TPOT Random Forest Metrics -----\n",
      "Accuracy: 0.770116258654514\n",
      "AUC: 0.7701807234036481\n",
      "F1: 0.779817654069151\n"
     ]
    }
   ],
   "source": [
    "print(\"----- TPOT Random Forest Metrics -----\")\n",
    "print(\"Accuracy:\", accuracy_score(y_test, results))\n",
    "print(\"AUC:\",  roc_auc_score(y_test, results))\n",
    "print(\"F1:\", f1_score(y_test, results))"
   ]
  },
  {
   "cell_type": "markdown",
   "id": "17f8e7a1",
   "metadata": {},
   "source": [
    "---\n",
    ">### PyCaret"
   ]
  },
  {
   "cell_type": "code",
   "execution_count": 16,
   "id": "5b9b6192",
   "metadata": {},
   "outputs": [],
   "source": [
    "from pycaret.classification import *"
   ]
  },
  {
   "cell_type": "code",
   "execution_count": 19,
   "id": "8c79fe77",
   "metadata": {},
   "outputs": [],
   "source": [
    "df_caret = pd.merge(X_train, y_train, left_index=True, right_index=True)"
   ]
  },
  {
   "cell_type": "code",
   "execution_count": 20,
   "id": "505976a1",
   "metadata": {},
   "outputs": [
    {
     "data": {
      "text/html": [
       "<style  type=\"text/css\" >\n",
       "#T_9464e_row44_col1{\n",
       "            background-color:  lightgreen;\n",
       "        }</style><table id=\"T_9464e_\" ><thead>    <tr>        <th class=\"blank level0\" ></th>        <th class=\"col_heading level0 col0\" >Description</th>        <th class=\"col_heading level0 col1\" >Value</th>    </tr></thead><tbody>\n",
       "                <tr>\n",
       "                        <th id=\"T_9464e_level0_row0\" class=\"row_heading level0 row0\" >0</th>\n",
       "                        <td id=\"T_9464e_row0_col0\" class=\"data row0 col0\" >session_id</td>\n",
       "                        <td id=\"T_9464e_row0_col1\" class=\"data row0 col1\" >123</td>\n",
       "            </tr>\n",
       "            <tr>\n",
       "                        <th id=\"T_9464e_level0_row1\" class=\"row_heading level0 row1\" >1</th>\n",
       "                        <td id=\"T_9464e_row1_col0\" class=\"data row1 col0\" >Target</td>\n",
       "                        <td id=\"T_9464e_row1_col1\" class=\"data row1 col1\" >Diabetes_binary</td>\n",
       "            </tr>\n",
       "            <tr>\n",
       "                        <th id=\"T_9464e_level0_row2\" class=\"row_heading level0 row2\" >2</th>\n",
       "                        <td id=\"T_9464e_row2_col0\" class=\"data row2 col0\" >Target Type</td>\n",
       "                        <td id=\"T_9464e_row2_col1\" class=\"data row2 col1\" >Binary</td>\n",
       "            </tr>\n",
       "            <tr>\n",
       "                        <th id=\"T_9464e_level0_row3\" class=\"row_heading level0 row3\" >3</th>\n",
       "                        <td id=\"T_9464e_row3_col0\" class=\"data row3 col0\" >Label Encoded</td>\n",
       "                        <td id=\"T_9464e_row3_col1\" class=\"data row3 col1\" >0.0: 0, 1.0: 1</td>\n",
       "            </tr>\n",
       "            <tr>\n",
       "                        <th id=\"T_9464e_level0_row4\" class=\"row_heading level0 row4\" >4</th>\n",
       "                        <td id=\"T_9464e_row4_col0\" class=\"data row4 col0\" >Original Data</td>\n",
       "                        <td id=\"T_9464e_row4_col1\" class=\"data row4 col1\" >(305667, 22)</td>\n",
       "            </tr>\n",
       "            <tr>\n",
       "                        <th id=\"T_9464e_level0_row5\" class=\"row_heading level0 row5\" >5</th>\n",
       "                        <td id=\"T_9464e_row5_col0\" class=\"data row5 col0\" >Missing Values</td>\n",
       "                        <td id=\"T_9464e_row5_col1\" class=\"data row5 col1\" >False</td>\n",
       "            </tr>\n",
       "            <tr>\n",
       "                        <th id=\"T_9464e_level0_row6\" class=\"row_heading level0 row6\" >6</th>\n",
       "                        <td id=\"T_9464e_row6_col0\" class=\"data row6 col0\" >Numeric Features</td>\n",
       "                        <td id=\"T_9464e_row6_col1\" class=\"data row6 col1\" >7</td>\n",
       "            </tr>\n",
       "            <tr>\n",
       "                        <th id=\"T_9464e_level0_row7\" class=\"row_heading level0 row7\" >7</th>\n",
       "                        <td id=\"T_9464e_row7_col0\" class=\"data row7 col0\" >Categorical Features</td>\n",
       "                        <td id=\"T_9464e_row7_col1\" class=\"data row7 col1\" >14</td>\n",
       "            </tr>\n",
       "            <tr>\n",
       "                        <th id=\"T_9464e_level0_row8\" class=\"row_heading level0 row8\" >8</th>\n",
       "                        <td id=\"T_9464e_row8_col0\" class=\"data row8 col0\" >Ordinal Features</td>\n",
       "                        <td id=\"T_9464e_row8_col1\" class=\"data row8 col1\" >False</td>\n",
       "            </tr>\n",
       "            <tr>\n",
       "                        <th id=\"T_9464e_level0_row9\" class=\"row_heading level0 row9\" >9</th>\n",
       "                        <td id=\"T_9464e_row9_col0\" class=\"data row9 col0\" >High Cardinality Features</td>\n",
       "                        <td id=\"T_9464e_row9_col1\" class=\"data row9 col1\" >False</td>\n",
       "            </tr>\n",
       "            <tr>\n",
       "                        <th id=\"T_9464e_level0_row10\" class=\"row_heading level0 row10\" >10</th>\n",
       "                        <td id=\"T_9464e_row10_col0\" class=\"data row10 col0\" >High Cardinality Method</td>\n",
       "                        <td id=\"T_9464e_row10_col1\" class=\"data row10 col1\" >None</td>\n",
       "            </tr>\n",
       "            <tr>\n",
       "                        <th id=\"T_9464e_level0_row11\" class=\"row_heading level0 row11\" >11</th>\n",
       "                        <td id=\"T_9464e_row11_col0\" class=\"data row11 col0\" >Transformed Train Set</td>\n",
       "                        <td id=\"T_9464e_row11_col1\" class=\"data row11 col1\" >(213966, 21)</td>\n",
       "            </tr>\n",
       "            <tr>\n",
       "                        <th id=\"T_9464e_level0_row12\" class=\"row_heading level0 row12\" >12</th>\n",
       "                        <td id=\"T_9464e_row12_col0\" class=\"data row12 col0\" >Transformed Test Set</td>\n",
       "                        <td id=\"T_9464e_row12_col1\" class=\"data row12 col1\" >(91701, 21)</td>\n",
       "            </tr>\n",
       "            <tr>\n",
       "                        <th id=\"T_9464e_level0_row13\" class=\"row_heading level0 row13\" >13</th>\n",
       "                        <td id=\"T_9464e_row13_col0\" class=\"data row13 col0\" >Shuffle Train-Test</td>\n",
       "                        <td id=\"T_9464e_row13_col1\" class=\"data row13 col1\" >True</td>\n",
       "            </tr>\n",
       "            <tr>\n",
       "                        <th id=\"T_9464e_level0_row14\" class=\"row_heading level0 row14\" >14</th>\n",
       "                        <td id=\"T_9464e_row14_col0\" class=\"data row14 col0\" >Stratify Train-Test</td>\n",
       "                        <td id=\"T_9464e_row14_col1\" class=\"data row14 col1\" >False</td>\n",
       "            </tr>\n",
       "            <tr>\n",
       "                        <th id=\"T_9464e_level0_row15\" class=\"row_heading level0 row15\" >15</th>\n",
       "                        <td id=\"T_9464e_row15_col0\" class=\"data row15 col0\" >Fold Generator</td>\n",
       "                        <td id=\"T_9464e_row15_col1\" class=\"data row15 col1\" >StratifiedKFold</td>\n",
       "            </tr>\n",
       "            <tr>\n",
       "                        <th id=\"T_9464e_level0_row16\" class=\"row_heading level0 row16\" >16</th>\n",
       "                        <td id=\"T_9464e_row16_col0\" class=\"data row16 col0\" >Fold Number</td>\n",
       "                        <td id=\"T_9464e_row16_col1\" class=\"data row16 col1\" >10</td>\n",
       "            </tr>\n",
       "            <tr>\n",
       "                        <th id=\"T_9464e_level0_row17\" class=\"row_heading level0 row17\" >17</th>\n",
       "                        <td id=\"T_9464e_row17_col0\" class=\"data row17 col0\" >CPU Jobs</td>\n",
       "                        <td id=\"T_9464e_row17_col1\" class=\"data row17 col1\" >-1</td>\n",
       "            </tr>\n",
       "            <tr>\n",
       "                        <th id=\"T_9464e_level0_row18\" class=\"row_heading level0 row18\" >18</th>\n",
       "                        <td id=\"T_9464e_row18_col0\" class=\"data row18 col0\" >Use GPU</td>\n",
       "                        <td id=\"T_9464e_row18_col1\" class=\"data row18 col1\" >False</td>\n",
       "            </tr>\n",
       "            <tr>\n",
       "                        <th id=\"T_9464e_level0_row19\" class=\"row_heading level0 row19\" >19</th>\n",
       "                        <td id=\"T_9464e_row19_col0\" class=\"data row19 col0\" >Log Experiment</td>\n",
       "                        <td id=\"T_9464e_row19_col1\" class=\"data row19 col1\" >False</td>\n",
       "            </tr>\n",
       "            <tr>\n",
       "                        <th id=\"T_9464e_level0_row20\" class=\"row_heading level0 row20\" >20</th>\n",
       "                        <td id=\"T_9464e_row20_col0\" class=\"data row20 col0\" >Experiment Name</td>\n",
       "                        <td id=\"T_9464e_row20_col1\" class=\"data row20 col1\" >clf-default-name</td>\n",
       "            </tr>\n",
       "            <tr>\n",
       "                        <th id=\"T_9464e_level0_row21\" class=\"row_heading level0 row21\" >21</th>\n",
       "                        <td id=\"T_9464e_row21_col0\" class=\"data row21 col0\" >USI</td>\n",
       "                        <td id=\"T_9464e_row21_col1\" class=\"data row21 col1\" >611c</td>\n",
       "            </tr>\n",
       "            <tr>\n",
       "                        <th id=\"T_9464e_level0_row22\" class=\"row_heading level0 row22\" >22</th>\n",
       "                        <td id=\"T_9464e_row22_col0\" class=\"data row22 col0\" >Imputation Type</td>\n",
       "                        <td id=\"T_9464e_row22_col1\" class=\"data row22 col1\" >simple</td>\n",
       "            </tr>\n",
       "            <tr>\n",
       "                        <th id=\"T_9464e_level0_row23\" class=\"row_heading level0 row23\" >23</th>\n",
       "                        <td id=\"T_9464e_row23_col0\" class=\"data row23 col0\" >Iterative Imputation Iteration</td>\n",
       "                        <td id=\"T_9464e_row23_col1\" class=\"data row23 col1\" >None</td>\n",
       "            </tr>\n",
       "            <tr>\n",
       "                        <th id=\"T_9464e_level0_row24\" class=\"row_heading level0 row24\" >24</th>\n",
       "                        <td id=\"T_9464e_row24_col0\" class=\"data row24 col0\" >Numeric Imputer</td>\n",
       "                        <td id=\"T_9464e_row24_col1\" class=\"data row24 col1\" >mean</td>\n",
       "            </tr>\n",
       "            <tr>\n",
       "                        <th id=\"T_9464e_level0_row25\" class=\"row_heading level0 row25\" >25</th>\n",
       "                        <td id=\"T_9464e_row25_col0\" class=\"data row25 col0\" >Iterative Imputation Numeric Model</td>\n",
       "                        <td id=\"T_9464e_row25_col1\" class=\"data row25 col1\" >None</td>\n",
       "            </tr>\n",
       "            <tr>\n",
       "                        <th id=\"T_9464e_level0_row26\" class=\"row_heading level0 row26\" >26</th>\n",
       "                        <td id=\"T_9464e_row26_col0\" class=\"data row26 col0\" >Categorical Imputer</td>\n",
       "                        <td id=\"T_9464e_row26_col1\" class=\"data row26 col1\" >constant</td>\n",
       "            </tr>\n",
       "            <tr>\n",
       "                        <th id=\"T_9464e_level0_row27\" class=\"row_heading level0 row27\" >27</th>\n",
       "                        <td id=\"T_9464e_row27_col0\" class=\"data row27 col0\" >Iterative Imputation Categorical Model</td>\n",
       "                        <td id=\"T_9464e_row27_col1\" class=\"data row27 col1\" >None</td>\n",
       "            </tr>\n",
       "            <tr>\n",
       "                        <th id=\"T_9464e_level0_row28\" class=\"row_heading level0 row28\" >28</th>\n",
       "                        <td id=\"T_9464e_row28_col0\" class=\"data row28 col0\" >Unknown Categoricals Handling</td>\n",
       "                        <td id=\"T_9464e_row28_col1\" class=\"data row28 col1\" >least_frequent</td>\n",
       "            </tr>\n",
       "            <tr>\n",
       "                        <th id=\"T_9464e_level0_row29\" class=\"row_heading level0 row29\" >29</th>\n",
       "                        <td id=\"T_9464e_row29_col0\" class=\"data row29 col0\" >Normalize</td>\n",
       "                        <td id=\"T_9464e_row29_col1\" class=\"data row29 col1\" >False</td>\n",
       "            </tr>\n",
       "            <tr>\n",
       "                        <th id=\"T_9464e_level0_row30\" class=\"row_heading level0 row30\" >30</th>\n",
       "                        <td id=\"T_9464e_row30_col0\" class=\"data row30 col0\" >Normalize Method</td>\n",
       "                        <td id=\"T_9464e_row30_col1\" class=\"data row30 col1\" >None</td>\n",
       "            </tr>\n",
       "            <tr>\n",
       "                        <th id=\"T_9464e_level0_row31\" class=\"row_heading level0 row31\" >31</th>\n",
       "                        <td id=\"T_9464e_row31_col0\" class=\"data row31 col0\" >Transformation</td>\n",
       "                        <td id=\"T_9464e_row31_col1\" class=\"data row31 col1\" >False</td>\n",
       "            </tr>\n",
       "            <tr>\n",
       "                        <th id=\"T_9464e_level0_row32\" class=\"row_heading level0 row32\" >32</th>\n",
       "                        <td id=\"T_9464e_row32_col0\" class=\"data row32 col0\" >Transformation Method</td>\n",
       "                        <td id=\"T_9464e_row32_col1\" class=\"data row32 col1\" >None</td>\n",
       "            </tr>\n",
       "            <tr>\n",
       "                        <th id=\"T_9464e_level0_row33\" class=\"row_heading level0 row33\" >33</th>\n",
       "                        <td id=\"T_9464e_row33_col0\" class=\"data row33 col0\" >PCA</td>\n",
       "                        <td id=\"T_9464e_row33_col1\" class=\"data row33 col1\" >False</td>\n",
       "            </tr>\n",
       "            <tr>\n",
       "                        <th id=\"T_9464e_level0_row34\" class=\"row_heading level0 row34\" >34</th>\n",
       "                        <td id=\"T_9464e_row34_col0\" class=\"data row34 col0\" >PCA Method</td>\n",
       "                        <td id=\"T_9464e_row34_col1\" class=\"data row34 col1\" >None</td>\n",
       "            </tr>\n",
       "            <tr>\n",
       "                        <th id=\"T_9464e_level0_row35\" class=\"row_heading level0 row35\" >35</th>\n",
       "                        <td id=\"T_9464e_row35_col0\" class=\"data row35 col0\" >PCA Components</td>\n",
       "                        <td id=\"T_9464e_row35_col1\" class=\"data row35 col1\" >None</td>\n",
       "            </tr>\n",
       "            <tr>\n",
       "                        <th id=\"T_9464e_level0_row36\" class=\"row_heading level0 row36\" >36</th>\n",
       "                        <td id=\"T_9464e_row36_col0\" class=\"data row36 col0\" >Ignore Low Variance</td>\n",
       "                        <td id=\"T_9464e_row36_col1\" class=\"data row36 col1\" >False</td>\n",
       "            </tr>\n",
       "            <tr>\n",
       "                        <th id=\"T_9464e_level0_row37\" class=\"row_heading level0 row37\" >37</th>\n",
       "                        <td id=\"T_9464e_row37_col0\" class=\"data row37 col0\" >Combine Rare Levels</td>\n",
       "                        <td id=\"T_9464e_row37_col1\" class=\"data row37 col1\" >False</td>\n",
       "            </tr>\n",
       "            <tr>\n",
       "                        <th id=\"T_9464e_level0_row38\" class=\"row_heading level0 row38\" >38</th>\n",
       "                        <td id=\"T_9464e_row38_col0\" class=\"data row38 col0\" >Rare Level Threshold</td>\n",
       "                        <td id=\"T_9464e_row38_col1\" class=\"data row38 col1\" >None</td>\n",
       "            </tr>\n",
       "            <tr>\n",
       "                        <th id=\"T_9464e_level0_row39\" class=\"row_heading level0 row39\" >39</th>\n",
       "                        <td id=\"T_9464e_row39_col0\" class=\"data row39 col0\" >Numeric Binning</td>\n",
       "                        <td id=\"T_9464e_row39_col1\" class=\"data row39 col1\" >False</td>\n",
       "            </tr>\n",
       "            <tr>\n",
       "                        <th id=\"T_9464e_level0_row40\" class=\"row_heading level0 row40\" >40</th>\n",
       "                        <td id=\"T_9464e_row40_col0\" class=\"data row40 col0\" >Remove Outliers</td>\n",
       "                        <td id=\"T_9464e_row40_col1\" class=\"data row40 col1\" >False</td>\n",
       "            </tr>\n",
       "            <tr>\n",
       "                        <th id=\"T_9464e_level0_row41\" class=\"row_heading level0 row41\" >41</th>\n",
       "                        <td id=\"T_9464e_row41_col0\" class=\"data row41 col0\" >Outliers Threshold</td>\n",
       "                        <td id=\"T_9464e_row41_col1\" class=\"data row41 col1\" >None</td>\n",
       "            </tr>\n",
       "            <tr>\n",
       "                        <th id=\"T_9464e_level0_row42\" class=\"row_heading level0 row42\" >42</th>\n",
       "                        <td id=\"T_9464e_row42_col0\" class=\"data row42 col0\" >Remove Multicollinearity</td>\n",
       "                        <td id=\"T_9464e_row42_col1\" class=\"data row42 col1\" >False</td>\n",
       "            </tr>\n",
       "            <tr>\n",
       "                        <th id=\"T_9464e_level0_row43\" class=\"row_heading level0 row43\" >43</th>\n",
       "                        <td id=\"T_9464e_row43_col0\" class=\"data row43 col0\" >Multicollinearity Threshold</td>\n",
       "                        <td id=\"T_9464e_row43_col1\" class=\"data row43 col1\" >None</td>\n",
       "            </tr>\n",
       "            <tr>\n",
       "                        <th id=\"T_9464e_level0_row44\" class=\"row_heading level0 row44\" >44</th>\n",
       "                        <td id=\"T_9464e_row44_col0\" class=\"data row44 col0\" >Remove Perfect Collinearity</td>\n",
       "                        <td id=\"T_9464e_row44_col1\" class=\"data row44 col1\" >True</td>\n",
       "            </tr>\n",
       "            <tr>\n",
       "                        <th id=\"T_9464e_level0_row45\" class=\"row_heading level0 row45\" >45</th>\n",
       "                        <td id=\"T_9464e_row45_col0\" class=\"data row45 col0\" >Clustering</td>\n",
       "                        <td id=\"T_9464e_row45_col1\" class=\"data row45 col1\" >False</td>\n",
       "            </tr>\n",
       "            <tr>\n",
       "                        <th id=\"T_9464e_level0_row46\" class=\"row_heading level0 row46\" >46</th>\n",
       "                        <td id=\"T_9464e_row46_col0\" class=\"data row46 col0\" >Clustering Iteration</td>\n",
       "                        <td id=\"T_9464e_row46_col1\" class=\"data row46 col1\" >None</td>\n",
       "            </tr>\n",
       "            <tr>\n",
       "                        <th id=\"T_9464e_level0_row47\" class=\"row_heading level0 row47\" >47</th>\n",
       "                        <td id=\"T_9464e_row47_col0\" class=\"data row47 col0\" >Polynomial Features</td>\n",
       "                        <td id=\"T_9464e_row47_col1\" class=\"data row47 col1\" >False</td>\n",
       "            </tr>\n",
       "            <tr>\n",
       "                        <th id=\"T_9464e_level0_row48\" class=\"row_heading level0 row48\" >48</th>\n",
       "                        <td id=\"T_9464e_row48_col0\" class=\"data row48 col0\" >Polynomial Degree</td>\n",
       "                        <td id=\"T_9464e_row48_col1\" class=\"data row48 col1\" >None</td>\n",
       "            </tr>\n",
       "            <tr>\n",
       "                        <th id=\"T_9464e_level0_row49\" class=\"row_heading level0 row49\" >49</th>\n",
       "                        <td id=\"T_9464e_row49_col0\" class=\"data row49 col0\" >Trignometry Features</td>\n",
       "                        <td id=\"T_9464e_row49_col1\" class=\"data row49 col1\" >False</td>\n",
       "            </tr>\n",
       "            <tr>\n",
       "                        <th id=\"T_9464e_level0_row50\" class=\"row_heading level0 row50\" >50</th>\n",
       "                        <td id=\"T_9464e_row50_col0\" class=\"data row50 col0\" >Polynomial Threshold</td>\n",
       "                        <td id=\"T_9464e_row50_col1\" class=\"data row50 col1\" >None</td>\n",
       "            </tr>\n",
       "            <tr>\n",
       "                        <th id=\"T_9464e_level0_row51\" class=\"row_heading level0 row51\" >51</th>\n",
       "                        <td id=\"T_9464e_row51_col0\" class=\"data row51 col0\" >Group Features</td>\n",
       "                        <td id=\"T_9464e_row51_col1\" class=\"data row51 col1\" >False</td>\n",
       "            </tr>\n",
       "            <tr>\n",
       "                        <th id=\"T_9464e_level0_row52\" class=\"row_heading level0 row52\" >52</th>\n",
       "                        <td id=\"T_9464e_row52_col0\" class=\"data row52 col0\" >Feature Selection</td>\n",
       "                        <td id=\"T_9464e_row52_col1\" class=\"data row52 col1\" >False</td>\n",
       "            </tr>\n",
       "            <tr>\n",
       "                        <th id=\"T_9464e_level0_row53\" class=\"row_heading level0 row53\" >53</th>\n",
       "                        <td id=\"T_9464e_row53_col0\" class=\"data row53 col0\" >Feature Selection Method</td>\n",
       "                        <td id=\"T_9464e_row53_col1\" class=\"data row53 col1\" >classic</td>\n",
       "            </tr>\n",
       "            <tr>\n",
       "                        <th id=\"T_9464e_level0_row54\" class=\"row_heading level0 row54\" >54</th>\n",
       "                        <td id=\"T_9464e_row54_col0\" class=\"data row54 col0\" >Features Selection Threshold</td>\n",
       "                        <td id=\"T_9464e_row54_col1\" class=\"data row54 col1\" >None</td>\n",
       "            </tr>\n",
       "            <tr>\n",
       "                        <th id=\"T_9464e_level0_row55\" class=\"row_heading level0 row55\" >55</th>\n",
       "                        <td id=\"T_9464e_row55_col0\" class=\"data row55 col0\" >Feature Interaction</td>\n",
       "                        <td id=\"T_9464e_row55_col1\" class=\"data row55 col1\" >False</td>\n",
       "            </tr>\n",
       "            <tr>\n",
       "                        <th id=\"T_9464e_level0_row56\" class=\"row_heading level0 row56\" >56</th>\n",
       "                        <td id=\"T_9464e_row56_col0\" class=\"data row56 col0\" >Feature Ratio</td>\n",
       "                        <td id=\"T_9464e_row56_col1\" class=\"data row56 col1\" >False</td>\n",
       "            </tr>\n",
       "            <tr>\n",
       "                        <th id=\"T_9464e_level0_row57\" class=\"row_heading level0 row57\" >57</th>\n",
       "                        <td id=\"T_9464e_row57_col0\" class=\"data row57 col0\" >Interaction Threshold</td>\n",
       "                        <td id=\"T_9464e_row57_col1\" class=\"data row57 col1\" >None</td>\n",
       "            </tr>\n",
       "            <tr>\n",
       "                        <th id=\"T_9464e_level0_row58\" class=\"row_heading level0 row58\" >58</th>\n",
       "                        <td id=\"T_9464e_row58_col0\" class=\"data row58 col0\" >Fix Imbalance</td>\n",
       "                        <td id=\"T_9464e_row58_col1\" class=\"data row58 col1\" >False</td>\n",
       "            </tr>\n",
       "            <tr>\n",
       "                        <th id=\"T_9464e_level0_row59\" class=\"row_heading level0 row59\" >59</th>\n",
       "                        <td id=\"T_9464e_row59_col0\" class=\"data row59 col0\" >Fix Imbalance Method</td>\n",
       "                        <td id=\"T_9464e_row59_col1\" class=\"data row59 col1\" >SMOTE</td>\n",
       "            </tr>\n",
       "    </tbody></table>"
      ],
      "text/plain": [
       "<pandas.io.formats.style.Styler at 0x163a6edfe20>"
      ]
     },
     "metadata": {},
     "output_type": "display_data"
    }
   ],
   "source": [
    "exp_clf101 = setup(data = df_caret, target = 'Diabetes_binary', session_id=123) "
   ]
  },
  {
   "cell_type": "code",
   "execution_count": 27,
   "id": "358477cc",
   "metadata": {},
   "outputs": [
    {
     "data": {
      "text/html": [
       "<style  type=\"text/css\" >\n",
       "    #T_06627_ th {\n",
       "          text-align: left;\n",
       "    }#T_06627_row0_col0,#T_06627_row0_col3,#T_06627_row1_col0,#T_06627_row1_col1,#T_06627_row1_col2,#T_06627_row1_col3,#T_06627_row1_col4,#T_06627_row1_col5,#T_06627_row1_col6,#T_06627_row1_col7,#T_06627_row2_col0,#T_06627_row2_col1,#T_06627_row2_col2,#T_06627_row2_col3,#T_06627_row2_col4,#T_06627_row2_col5,#T_06627_row2_col6,#T_06627_row2_col7,#T_06627_row3_col0,#T_06627_row3_col1,#T_06627_row3_col2,#T_06627_row3_col3,#T_06627_row3_col4,#T_06627_row3_col5,#T_06627_row3_col6,#T_06627_row3_col7,#T_06627_row4_col0,#T_06627_row4_col1,#T_06627_row4_col2,#T_06627_row4_col3,#T_06627_row4_col4,#T_06627_row4_col5,#T_06627_row4_col6,#T_06627_row4_col7,#T_06627_row5_col0,#T_06627_row5_col1,#T_06627_row5_col2,#T_06627_row5_col3,#T_06627_row5_col4,#T_06627_row5_col5,#T_06627_row5_col6,#T_06627_row5_col7,#T_06627_row6_col0,#T_06627_row6_col1,#T_06627_row6_col2,#T_06627_row6_col3,#T_06627_row6_col4,#T_06627_row6_col5,#T_06627_row6_col6,#T_06627_row6_col7,#T_06627_row7_col0,#T_06627_row7_col1,#T_06627_row7_col2,#T_06627_row7_col3,#T_06627_row7_col4,#T_06627_row7_col5,#T_06627_row7_col6,#T_06627_row7_col7,#T_06627_row8_col0,#T_06627_row8_col1,#T_06627_row8_col2,#T_06627_row8_col3,#T_06627_row8_col4,#T_06627_row8_col5,#T_06627_row8_col6,#T_06627_row8_col7,#T_06627_row9_col0,#T_06627_row9_col1,#T_06627_row9_col2,#T_06627_row9_col3,#T_06627_row9_col4,#T_06627_row9_col5,#T_06627_row9_col6,#T_06627_row9_col7,#T_06627_row10_col0,#T_06627_row10_col1,#T_06627_row10_col2,#T_06627_row10_col3,#T_06627_row10_col4,#T_06627_row10_col5,#T_06627_row10_col6,#T_06627_row10_col7,#T_06627_row11_col0,#T_06627_row11_col1,#T_06627_row11_col2,#T_06627_row11_col3,#T_06627_row11_col4,#T_06627_row11_col5,#T_06627_row11_col6,#T_06627_row11_col7,#T_06627_row12_col0,#T_06627_row12_col1,#T_06627_row12_col2,#T_06627_row12_col3,#T_06627_row12_col4,#T_06627_row12_col5,#T_06627_row12_col6,#T_06627_row12_col7,#T_06627_row13_col0,#T_06627_row13_col1,#T_06627_row13_col2,#T_06627_row13_col3,#T_06627_row13_col4,#T_06627_row13_col5,#T_06627_row13_col6,#T_06627_row13_col7,#T_06627_row14_col0,#T_06627_row14_col1,#T_06627_row14_col2,#T_06627_row14_col4,#T_06627_row14_col5,#T_06627_row14_col6,#T_06627_row14_col7{\n",
       "            text-align:  left;\n",
       "            text-align:  left;\n",
       "        }#T_06627_row0_col1,#T_06627_row0_col2,#T_06627_row0_col4,#T_06627_row0_col5,#T_06627_row0_col6,#T_06627_row0_col7,#T_06627_row14_col3{\n",
       "            text-align:  left;\n",
       "            text-align:  left;\n",
       "            background-color:  yellow;\n",
       "        }#T_06627_row0_col8,#T_06627_row1_col8,#T_06627_row2_col8,#T_06627_row3_col8,#T_06627_row4_col8,#T_06627_row5_col8,#T_06627_row6_col8,#T_06627_row7_col8,#T_06627_row8_col8,#T_06627_row9_col8,#T_06627_row10_col8,#T_06627_row11_col8,#T_06627_row12_col8,#T_06627_row13_col8{\n",
       "            text-align:  left;\n",
       "            text-align:  left;\n",
       "            background-color:  lightgrey;\n",
       "        }#T_06627_row14_col8{\n",
       "            text-align:  left;\n",
       "            text-align:  left;\n",
       "            background-color:  yellow;\n",
       "            background-color:  lightgrey;\n",
       "        }</style><table id=\"T_06627_\" ><thead>    <tr>        <th class=\"blank level0\" ></th>        <th class=\"col_heading level0 col0\" >Model</th>        <th class=\"col_heading level0 col1\" >Accuracy</th>        <th class=\"col_heading level0 col2\" >AUC</th>        <th class=\"col_heading level0 col3\" >Recall</th>        <th class=\"col_heading level0 col4\" >Prec.</th>        <th class=\"col_heading level0 col5\" >F1</th>        <th class=\"col_heading level0 col6\" >Kappa</th>        <th class=\"col_heading level0 col7\" >MCC</th>        <th class=\"col_heading level0 col8\" >TT (Sec)</th>    </tr></thead><tbody>\n",
       "                <tr>\n",
       "                        <th id=\"T_06627_level0_row0\" class=\"row_heading level0 row0\" >et</th>\n",
       "                        <td id=\"T_06627_row0_col0\" class=\"data row0 col0\" >Extra Trees Classifier</td>\n",
       "                        <td id=\"T_06627_row0_col1\" class=\"data row0 col1\" >0.9497</td>\n",
       "                        <td id=\"T_06627_row0_col2\" class=\"data row0 col2\" >0.9921</td>\n",
       "                        <td id=\"T_06627_row0_col3\" class=\"data row0 col3\" >0.9819</td>\n",
       "                        <td id=\"T_06627_row0_col4\" class=\"data row0 col4\" >0.9225</td>\n",
       "                        <td id=\"T_06627_row0_col5\" class=\"data row0 col5\" >0.9513</td>\n",
       "                        <td id=\"T_06627_row0_col6\" class=\"data row0 col6\" >0.8994</td>\n",
       "                        <td id=\"T_06627_row0_col7\" class=\"data row0 col7\" >0.9013</td>\n",
       "                        <td id=\"T_06627_row0_col8\" class=\"data row0 col8\" >16.7660</td>\n",
       "            </tr>\n",
       "            <tr>\n",
       "                        <th id=\"T_06627_level0_row1\" class=\"row_heading level0 row1\" >rf</th>\n",
       "                        <td id=\"T_06627_row1_col0\" class=\"data row1 col0\" >Random Forest Classifier</td>\n",
       "                        <td id=\"T_06627_row1_col1\" class=\"data row1 col1\" >0.9321</td>\n",
       "                        <td id=\"T_06627_row1_col2\" class=\"data row1 col2\" >0.9908</td>\n",
       "                        <td id=\"T_06627_row1_col3\" class=\"data row1 col3\" >0.9855</td>\n",
       "                        <td id=\"T_06627_row1_col4\" class=\"data row1 col4\" >0.8904</td>\n",
       "                        <td id=\"T_06627_row1_col5\" class=\"data row1 col5\" >0.9355</td>\n",
       "                        <td id=\"T_06627_row1_col6\" class=\"data row1 col6\" >0.8642</td>\n",
       "                        <td id=\"T_06627_row1_col7\" class=\"data row1 col7\" >0.8691</td>\n",
       "                        <td id=\"T_06627_row1_col8\" class=\"data row1 col8\" >13.7350</td>\n",
       "            </tr>\n",
       "            <tr>\n",
       "                        <th id=\"T_06627_level0_row2\" class=\"row_heading level0 row2\" >dt</th>\n",
       "                        <td id=\"T_06627_row2_col0\" class=\"data row2 col0\" >Decision Tree Classifier</td>\n",
       "                        <td id=\"T_06627_row2_col1\" class=\"data row2 col1\" >0.9088</td>\n",
       "                        <td id=\"T_06627_row2_col2\" class=\"data row2 col2\" >0.9149</td>\n",
       "                        <td id=\"T_06627_row2_col3\" class=\"data row2 col3\" >0.9831</td>\n",
       "                        <td id=\"T_06627_row2_col4\" class=\"data row2 col4\" >0.8559</td>\n",
       "                        <td id=\"T_06627_row2_col5\" class=\"data row2 col5\" >0.9151</td>\n",
       "                        <td id=\"T_06627_row2_col6\" class=\"data row2 col6\" >0.8176</td>\n",
       "                        <td id=\"T_06627_row2_col7\" class=\"data row2 col7\" >0.8268</td>\n",
       "                        <td id=\"T_06627_row2_col8\" class=\"data row2 col8\" >0.6980</td>\n",
       "            </tr>\n",
       "            <tr>\n",
       "                        <th id=\"T_06627_level0_row3\" class=\"row_heading level0 row3\" >knn</th>\n",
       "                        <td id=\"T_06627_row3_col0\" class=\"data row3 col0\" >K Neighbors Classifier</td>\n",
       "                        <td id=\"T_06627_row3_col1\" class=\"data row3 col1\" >0.8106</td>\n",
       "                        <td id=\"T_06627_row3_col2\" class=\"data row3 col2\" >0.8832</td>\n",
       "                        <td id=\"T_06627_row3_col3\" class=\"data row3 col3\" >0.9199</td>\n",
       "                        <td id=\"T_06627_row3_col4\" class=\"data row3 col4\" >0.7549</td>\n",
       "                        <td id=\"T_06627_row3_col5\" class=\"data row3 col5\" >0.8292</td>\n",
       "                        <td id=\"T_06627_row3_col6\" class=\"data row3 col6\" >0.6211</td>\n",
       "                        <td id=\"T_06627_row3_col7\" class=\"data row3 col7\" >0.6365</td>\n",
       "                        <td id=\"T_06627_row3_col8\" class=\"data row3 col8\" >105.3990</td>\n",
       "            </tr>\n",
       "            <tr>\n",
       "                        <th id=\"T_06627_level0_row4\" class=\"row_heading level0 row4\" >xgboost</th>\n",
       "                        <td id=\"T_06627_row4_col0\" class=\"data row4 col0\" >Extreme Gradient Boosting</td>\n",
       "                        <td id=\"T_06627_row4_col1\" class=\"data row4 col1\" >0.7680</td>\n",
       "                        <td id=\"T_06627_row4_col2\" class=\"data row4 col2\" >0.8469</td>\n",
       "                        <td id=\"T_06627_row4_col3\" class=\"data row4 col3\" >0.8185</td>\n",
       "                        <td id=\"T_06627_row4_col4\" class=\"data row4 col4\" >0.7435</td>\n",
       "                        <td id=\"T_06627_row4_col5\" class=\"data row4 col5\" >0.7792</td>\n",
       "                        <td id=\"T_06627_row4_col6\" class=\"data row4 col6\" >0.5360</td>\n",
       "                        <td id=\"T_06627_row4_col7\" class=\"data row4 col7\" >0.5388</td>\n",
       "                        <td id=\"T_06627_row4_col8\" class=\"data row4 col8\" >10.5660</td>\n",
       "            </tr>\n",
       "            <tr>\n",
       "                        <th id=\"T_06627_level0_row5\" class=\"row_heading level0 row5\" >lightgbm</th>\n",
       "                        <td id=\"T_06627_row5_col0\" class=\"data row5 col0\" >Light Gradient Boosting Machine</td>\n",
       "                        <td id=\"T_06627_row5_col1\" class=\"data row5 col1\" >0.7581</td>\n",
       "                        <td id=\"T_06627_row5_col2\" class=\"data row5 col2\" >0.8362</td>\n",
       "                        <td id=\"T_06627_row5_col3\" class=\"data row5 col3\" >0.8078</td>\n",
       "                        <td id=\"T_06627_row5_col4\" class=\"data row5 col4\" >0.7348</td>\n",
       "                        <td id=\"T_06627_row5_col5\" class=\"data row5 col5\" >0.7696</td>\n",
       "                        <td id=\"T_06627_row5_col6\" class=\"data row5 col6\" >0.5162</td>\n",
       "                        <td id=\"T_06627_row5_col7\" class=\"data row5 col7\" >0.5188</td>\n",
       "                        <td id=\"T_06627_row5_col8\" class=\"data row5 col8\" >1.7400</td>\n",
       "            </tr>\n",
       "            <tr>\n",
       "                        <th id=\"T_06627_level0_row6\" class=\"row_heading level0 row6\" >gbc</th>\n",
       "                        <td id=\"T_06627_row6_col0\" class=\"data row6 col0\" >Gradient Boosting Classifier</td>\n",
       "                        <td id=\"T_06627_row6_col1\" class=\"data row6 col1\" >0.7533</td>\n",
       "                        <td id=\"T_06627_row6_col2\" class=\"data row6 col2\" >0.8307</td>\n",
       "                        <td id=\"T_06627_row6_col3\" class=\"data row6 col3\" >0.7962</td>\n",
       "                        <td id=\"T_06627_row6_col4\" class=\"data row6 col4\" >0.7333</td>\n",
       "                        <td id=\"T_06627_row6_col5\" class=\"data row6 col5\" >0.7635</td>\n",
       "                        <td id=\"T_06627_row6_col6\" class=\"data row6 col6\" >0.5066</td>\n",
       "                        <td id=\"T_06627_row6_col7\" class=\"data row6 col7\" >0.5085</td>\n",
       "                        <td id=\"T_06627_row6_col8\" class=\"data row6 col8\" >17.1820</td>\n",
       "            </tr>\n",
       "            <tr>\n",
       "                        <th id=\"T_06627_level0_row7\" class=\"row_heading level0 row7\" >ada</th>\n",
       "                        <td id=\"T_06627_row7_col0\" class=\"data row7 col0\" >Ada Boost Classifier</td>\n",
       "                        <td id=\"T_06627_row7_col1\" class=\"data row7 col1\" >0.7479</td>\n",
       "                        <td id=\"T_06627_row7_col2\" class=\"data row7 col2\" >0.8259</td>\n",
       "                        <td id=\"T_06627_row7_col3\" class=\"data row7 col3\" >0.7703</td>\n",
       "                        <td id=\"T_06627_row7_col4\" class=\"data row7 col4\" >0.7372</td>\n",
       "                        <td id=\"T_06627_row7_col5\" class=\"data row7 col5\" >0.7534</td>\n",
       "                        <td id=\"T_06627_row7_col6\" class=\"data row7 col6\" >0.4957</td>\n",
       "                        <td id=\"T_06627_row7_col7\" class=\"data row7 col7\" >0.4962</td>\n",
       "                        <td id=\"T_06627_row7_col8\" class=\"data row7 col8\" >3.9320</td>\n",
       "            </tr>\n",
       "            <tr>\n",
       "                        <th id=\"T_06627_level0_row8\" class=\"row_heading level0 row8\" >ridge</th>\n",
       "                        <td id=\"T_06627_row8_col0\" class=\"data row8 col0\" >Ridge Classifier</td>\n",
       "                        <td id=\"T_06627_row8_col1\" class=\"data row8 col1\" >0.7456</td>\n",
       "                        <td id=\"T_06627_row8_col2\" class=\"data row8 col2\" >0.0000</td>\n",
       "                        <td id=\"T_06627_row8_col3\" class=\"data row8 col3\" >0.7731</td>\n",
       "                        <td id=\"T_06627_row8_col4\" class=\"data row8 col4\" >0.7328</td>\n",
       "                        <td id=\"T_06627_row8_col5\" class=\"data row8 col5\" >0.7524</td>\n",
       "                        <td id=\"T_06627_row8_col6\" class=\"data row8 col6\" >0.4912</td>\n",
       "                        <td id=\"T_06627_row8_col7\" class=\"data row8 col7\" >0.4919</td>\n",
       "                        <td id=\"T_06627_row8_col8\" class=\"data row8 col8\" >0.1410</td>\n",
       "            </tr>\n",
       "            <tr>\n",
       "                        <th id=\"T_06627_level0_row9\" class=\"row_heading level0 row9\" >lda</th>\n",
       "                        <td id=\"T_06627_row9_col0\" class=\"data row9 col0\" >Linear Discriminant Analysis</td>\n",
       "                        <td id=\"T_06627_row9_col1\" class=\"data row9 col1\" >0.7456</td>\n",
       "                        <td id=\"T_06627_row9_col2\" class=\"data row9 col2\" >0.8214</td>\n",
       "                        <td id=\"T_06627_row9_col3\" class=\"data row9 col3\" >0.7731</td>\n",
       "                        <td id=\"T_06627_row9_col4\" class=\"data row9 col4\" >0.7328</td>\n",
       "                        <td id=\"T_06627_row9_col5\" class=\"data row9 col5\" >0.7524</td>\n",
       "                        <td id=\"T_06627_row9_col6\" class=\"data row9 col6\" >0.4912</td>\n",
       "                        <td id=\"T_06627_row9_col7\" class=\"data row9 col7\" >0.4919</td>\n",
       "                        <td id=\"T_06627_row9_col8\" class=\"data row9 col8\" >0.6770</td>\n",
       "            </tr>\n",
       "            <tr>\n",
       "                        <th id=\"T_06627_level0_row10\" class=\"row_heading level0 row10\" >lr</th>\n",
       "                        <td id=\"T_06627_row10_col0\" class=\"data row10 col0\" >Logistic Regression</td>\n",
       "                        <td id=\"T_06627_row10_col1\" class=\"data row10 col1\" >0.7455</td>\n",
       "                        <td id=\"T_06627_row10_col2\" class=\"data row10 col2\" >0.8222</td>\n",
       "                        <td id=\"T_06627_row10_col3\" class=\"data row10 col3\" >0.7648</td>\n",
       "                        <td id=\"T_06627_row10_col4\" class=\"data row10 col4\" >0.7364</td>\n",
       "                        <td id=\"T_06627_row10_col5\" class=\"data row10 col5\" >0.7504</td>\n",
       "                        <td id=\"T_06627_row10_col6\" class=\"data row10 col6\" >0.4911</td>\n",
       "                        <td id=\"T_06627_row10_col7\" class=\"data row10 col7\" >0.4915</td>\n",
       "                        <td id=\"T_06627_row10_col8\" class=\"data row10 col8\" >4.3710</td>\n",
       "            </tr>\n",
       "            <tr>\n",
       "                        <th id=\"T_06627_level0_row11\" class=\"row_heading level0 row11\" >svm</th>\n",
       "                        <td id=\"T_06627_row11_col0\" class=\"data row11 col0\" >SVM - Linear Kernel</td>\n",
       "                        <td id=\"T_06627_row11_col1\" class=\"data row11 col1\" >0.7376</td>\n",
       "                        <td id=\"T_06627_row11_col2\" class=\"data row11 col2\" >0.0000</td>\n",
       "                        <td id=\"T_06627_row11_col3\" class=\"data row11 col3\" >0.7775</td>\n",
       "                        <td id=\"T_06627_row11_col4\" class=\"data row11 col4\" >0.7226</td>\n",
       "                        <td id=\"T_06627_row11_col5\" class=\"data row11 col5\" >0.7465</td>\n",
       "                        <td id=\"T_06627_row11_col6\" class=\"data row11 col6\" >0.4752</td>\n",
       "                        <td id=\"T_06627_row11_col7\" class=\"data row11 col7\" >0.4807</td>\n",
       "                        <td id=\"T_06627_row11_col8\" class=\"data row11 col8\" >1.1430</td>\n",
       "            </tr>\n",
       "            <tr>\n",
       "                        <th id=\"T_06627_level0_row12\" class=\"row_heading level0 row12\" >qda</th>\n",
       "                        <td id=\"T_06627_row12_col0\" class=\"data row12 col0\" >Quadratic Discriminant Analysis</td>\n",
       "                        <td id=\"T_06627_row12_col1\" class=\"data row12 col1\" >0.7249</td>\n",
       "                        <td id=\"T_06627_row12_col2\" class=\"data row12 col2\" >0.7799</td>\n",
       "                        <td id=\"T_06627_row12_col3\" class=\"data row12 col3\" >0.7812</td>\n",
       "                        <td id=\"T_06627_row12_col4\" class=\"data row12 col4\" >0.7021</td>\n",
       "                        <td id=\"T_06627_row12_col5\" class=\"data row12 col5\" >0.7395</td>\n",
       "                        <td id=\"T_06627_row12_col6\" class=\"data row12 col6\" >0.4497</td>\n",
       "                        <td id=\"T_06627_row12_col7\" class=\"data row12 col7\" >0.4526</td>\n",
       "                        <td id=\"T_06627_row12_col8\" class=\"data row12 col8\" >0.3520</td>\n",
       "            </tr>\n",
       "            <tr>\n",
       "                        <th id=\"T_06627_level0_row13\" class=\"row_heading level0 row13\" >nb</th>\n",
       "                        <td id=\"T_06627_row13_col0\" class=\"data row13 col0\" >Naive Bayes</td>\n",
       "                        <td id=\"T_06627_row13_col1\" class=\"data row13 col1\" >0.7161</td>\n",
       "                        <td id=\"T_06627_row13_col2\" class=\"data row13 col2\" >0.7835</td>\n",
       "                        <td id=\"T_06627_row13_col3\" class=\"data row13 col3\" >0.7060</td>\n",
       "                        <td id=\"T_06627_row13_col4\" class=\"data row13 col4\" >0.7205</td>\n",
       "                        <td id=\"T_06627_row13_col5\" class=\"data row13 col5\" >0.7132</td>\n",
       "                        <td id=\"T_06627_row13_col6\" class=\"data row13 col6\" >0.4322</td>\n",
       "                        <td id=\"T_06627_row13_col7\" class=\"data row13 col7\" >0.4323</td>\n",
       "                        <td id=\"T_06627_row13_col8\" class=\"data row13 col8\" >0.1370</td>\n",
       "            </tr>\n",
       "            <tr>\n",
       "                        <th id=\"T_06627_level0_row14\" class=\"row_heading level0 row14\" >dummy</th>\n",
       "                        <td id=\"T_06627_row14_col0\" class=\"data row14 col0\" >Dummy Classifier</td>\n",
       "                        <td id=\"T_06627_row14_col1\" class=\"data row14 col1\" >0.5000</td>\n",
       "                        <td id=\"T_06627_row14_col2\" class=\"data row14 col2\" >0.5000</td>\n",
       "                        <td id=\"T_06627_row14_col3\" class=\"data row14 col3\" >1.0000</td>\n",
       "                        <td id=\"T_06627_row14_col4\" class=\"data row14 col4\" >0.5000</td>\n",
       "                        <td id=\"T_06627_row14_col5\" class=\"data row14 col5\" >0.6667</td>\n",
       "                        <td id=\"T_06627_row14_col6\" class=\"data row14 col6\" >0.0000</td>\n",
       "                        <td id=\"T_06627_row14_col7\" class=\"data row14 col7\" >0.0000</td>\n",
       "                        <td id=\"T_06627_row14_col8\" class=\"data row14 col8\" >0.0910</td>\n",
       "            </tr>\n",
       "    </tbody></table>"
      ],
      "text/plain": [
       "<pandas.io.formats.style.Styler at 0x2283d66df10>"
      ]
     },
     "metadata": {},
     "output_type": "display_data"
    },
    {
     "data": {
      "text/plain": [
       "ExtraTreesClassifier(bootstrap=False, ccp_alpha=0.0, class_weight=None,\n",
       "                     criterion='gini', max_depth=None, max_features='auto',\n",
       "                     max_leaf_nodes=None, max_samples=None,\n",
       "                     min_impurity_decrease=0.0, min_impurity_split=None,\n",
       "                     min_samples_leaf=1, min_samples_split=2,\n",
       "                     min_weight_fraction_leaf=0.0, n_estimators=100, n_jobs=-1,\n",
       "                     oob_score=False, random_state=123, verbose=0,\n",
       "                     warm_start=False)"
      ]
     },
     "execution_count": 27,
     "metadata": {},
     "output_type": "execute_result"
    }
   ],
   "source": [
    "compare_models()"
   ]
  },
  {
   "cell_type": "code",
   "execution_count": 21,
   "id": "43ab1766",
   "metadata": {},
   "outputs": [
    {
     "data": {
      "text/html": [
       "<style  type=\"text/css\" >\n",
       "#T_6aaed_row10_col0,#T_6aaed_row10_col1,#T_6aaed_row10_col2,#T_6aaed_row10_col3,#T_6aaed_row10_col4,#T_6aaed_row10_col5,#T_6aaed_row10_col6{\n",
       "            background:  yellow;\n",
       "        }</style><table id=\"T_6aaed_\" ><thead>    <tr>        <th class=\"blank level0\" ></th>        <th class=\"col_heading level0 col0\" >Accuracy</th>        <th class=\"col_heading level0 col1\" >AUC</th>        <th class=\"col_heading level0 col2\" >Recall</th>        <th class=\"col_heading level0 col3\" >Prec.</th>        <th class=\"col_heading level0 col4\" >F1</th>        <th class=\"col_heading level0 col5\" >Kappa</th>        <th class=\"col_heading level0 col6\" >MCC</th>    </tr></thead><tbody>\n",
       "                <tr>\n",
       "                        <th id=\"T_6aaed_level0_row0\" class=\"row_heading level0 row0\" >0</th>\n",
       "                        <td id=\"T_6aaed_row0_col0\" class=\"data row0 col0\" >0.9208</td>\n",
       "                        <td id=\"T_6aaed_row0_col1\" class=\"data row0 col1\" >0.9814</td>\n",
       "                        <td id=\"T_6aaed_row0_col2\" class=\"data row0 col2\" >0.9546</td>\n",
       "                        <td id=\"T_6aaed_row0_col3\" class=\"data row0 col3\" >0.8946</td>\n",
       "                        <td id=\"T_6aaed_row0_col4\" class=\"data row0 col4\" >0.9236</td>\n",
       "                        <td id=\"T_6aaed_row0_col5\" class=\"data row0 col5\" >0.8416</td>\n",
       "                        <td id=\"T_6aaed_row0_col6\" class=\"data row0 col6\" >0.8435</td>\n",
       "            </tr>\n",
       "            <tr>\n",
       "                        <th id=\"T_6aaed_level0_row1\" class=\"row_heading level0 row1\" >1</th>\n",
       "                        <td id=\"T_6aaed_row1_col0\" class=\"data row1 col0\" >0.9177</td>\n",
       "                        <td id=\"T_6aaed_row1_col1\" class=\"data row1 col1\" >0.9816</td>\n",
       "                        <td id=\"T_6aaed_row1_col2\" class=\"data row1 col2\" >0.9576</td>\n",
       "                        <td id=\"T_6aaed_row1_col3\" class=\"data row1 col3\" >0.8872</td>\n",
       "                        <td id=\"T_6aaed_row1_col4\" class=\"data row1 col4\" >0.9210</td>\n",
       "                        <td id=\"T_6aaed_row1_col5\" class=\"data row1 col5\" >0.8354</td>\n",
       "                        <td id=\"T_6aaed_row1_col6\" class=\"data row1 col6\" >0.8380</td>\n",
       "            </tr>\n",
       "            <tr>\n",
       "                        <th id=\"T_6aaed_level0_row2\" class=\"row_heading level0 row2\" >2</th>\n",
       "                        <td id=\"T_6aaed_row2_col0\" class=\"data row2 col0\" >0.9170</td>\n",
       "                        <td id=\"T_6aaed_row2_col1\" class=\"data row2 col1\" >0.9798</td>\n",
       "                        <td id=\"T_6aaed_row2_col2\" class=\"data row2 col2\" >0.9540</td>\n",
       "                        <td id=\"T_6aaed_row2_col3\" class=\"data row2 col3\" >0.8887</td>\n",
       "                        <td id=\"T_6aaed_row2_col4\" class=\"data row2 col4\" >0.9202</td>\n",
       "                        <td id=\"T_6aaed_row2_col5\" class=\"data row2 col5\" >0.8341</td>\n",
       "                        <td id=\"T_6aaed_row2_col6\" class=\"data row2 col6\" >0.8363</td>\n",
       "            </tr>\n",
       "            <tr>\n",
       "                        <th id=\"T_6aaed_level0_row3\" class=\"row_heading level0 row3\" >3</th>\n",
       "                        <td id=\"T_6aaed_row3_col0\" class=\"data row3 col0\" >0.9157</td>\n",
       "                        <td id=\"T_6aaed_row3_col1\" class=\"data row3 col1\" >0.9810</td>\n",
       "                        <td id=\"T_6aaed_row3_col2\" class=\"data row3 col2\" >0.9554</td>\n",
       "                        <td id=\"T_6aaed_row3_col3\" class=\"data row3 col3\" >0.8855</td>\n",
       "                        <td id=\"T_6aaed_row3_col4\" class=\"data row3 col4\" >0.9191</td>\n",
       "                        <td id=\"T_6aaed_row3_col5\" class=\"data row3 col5\" >0.8314</td>\n",
       "                        <td id=\"T_6aaed_row3_col6\" class=\"data row3 col6\" >0.8341</td>\n",
       "            </tr>\n",
       "            <tr>\n",
       "                        <th id=\"T_6aaed_level0_row4\" class=\"row_heading level0 row4\" >4</th>\n",
       "                        <td id=\"T_6aaed_row4_col0\" class=\"data row4 col0\" >0.9174</td>\n",
       "                        <td id=\"T_6aaed_row4_col1\" class=\"data row4 col1\" >0.9809</td>\n",
       "                        <td id=\"T_6aaed_row4_col2\" class=\"data row4 col2\" >0.9546</td>\n",
       "                        <td id=\"T_6aaed_row4_col3\" class=\"data row4 col3\" >0.8888</td>\n",
       "                        <td id=\"T_6aaed_row4_col4\" class=\"data row4 col4\" >0.9205</td>\n",
       "                        <td id=\"T_6aaed_row4_col5\" class=\"data row4 col5\" >0.8347</td>\n",
       "                        <td id=\"T_6aaed_row4_col6\" class=\"data row4 col6\" >0.8370</td>\n",
       "            </tr>\n",
       "            <tr>\n",
       "                        <th id=\"T_6aaed_level0_row5\" class=\"row_heading level0 row5\" >5</th>\n",
       "                        <td id=\"T_6aaed_row5_col0\" class=\"data row5 col0\" >0.9170</td>\n",
       "                        <td id=\"T_6aaed_row5_col1\" class=\"data row5 col1\" >0.9801</td>\n",
       "                        <td id=\"T_6aaed_row5_col2\" class=\"data row5 col2\" >0.9549</td>\n",
       "                        <td id=\"T_6aaed_row5_col3\" class=\"data row5 col3\" >0.8879</td>\n",
       "                        <td id=\"T_6aaed_row5_col4\" class=\"data row5 col4\" >0.9202</td>\n",
       "                        <td id=\"T_6aaed_row5_col5\" class=\"data row5 col5\" >0.8339</td>\n",
       "                        <td id=\"T_6aaed_row5_col6\" class=\"data row5 col6\" >0.8363</td>\n",
       "            </tr>\n",
       "            <tr>\n",
       "                        <th id=\"T_6aaed_level0_row6\" class=\"row_heading level0 row6\" >6</th>\n",
       "                        <td id=\"T_6aaed_row6_col0\" class=\"data row6 col0\" >0.9185</td>\n",
       "                        <td id=\"T_6aaed_row6_col1\" class=\"data row6 col1\" >0.9813</td>\n",
       "                        <td id=\"T_6aaed_row6_col2\" class=\"data row6 col2\" >0.9561</td>\n",
       "                        <td id=\"T_6aaed_row6_col3\" class=\"data row6 col3\" >0.8897</td>\n",
       "                        <td id=\"T_6aaed_row6_col4\" class=\"data row6 col4\" >0.9217</td>\n",
       "                        <td id=\"T_6aaed_row6_col5\" class=\"data row6 col5\" >0.8370</td>\n",
       "                        <td id=\"T_6aaed_row6_col6\" class=\"data row6 col6\" >0.8394</td>\n",
       "            </tr>\n",
       "            <tr>\n",
       "                        <th id=\"T_6aaed_level0_row7\" class=\"row_heading level0 row7\" >7</th>\n",
       "                        <td id=\"T_6aaed_row7_col0\" class=\"data row7 col0\" >0.9181</td>\n",
       "                        <td id=\"T_6aaed_row7_col1\" class=\"data row7 col1\" >0.9796</td>\n",
       "                        <td id=\"T_6aaed_row7_col2\" class=\"data row7 col2\" >0.9531</td>\n",
       "                        <td id=\"T_6aaed_row7_col3\" class=\"data row7 col3\" >0.8910</td>\n",
       "                        <td id=\"T_6aaed_row7_col4\" class=\"data row7 col4\" >0.9210</td>\n",
       "                        <td id=\"T_6aaed_row7_col5\" class=\"data row7 col5\" >0.8361</td>\n",
       "                        <td id=\"T_6aaed_row7_col6\" class=\"data row7 col6\" >0.8382</td>\n",
       "            </tr>\n",
       "            <tr>\n",
       "                        <th id=\"T_6aaed_level0_row8\" class=\"row_heading level0 row8\" >8</th>\n",
       "                        <td id=\"T_6aaed_row8_col0\" class=\"data row8 col0\" >0.9202</td>\n",
       "                        <td id=\"T_6aaed_row8_col1\" class=\"data row8 col1\" >0.9818</td>\n",
       "                        <td id=\"T_6aaed_row8_col2\" class=\"data row8 col2\" >0.9573</td>\n",
       "                        <td id=\"T_6aaed_row8_col3\" class=\"data row8 col3\" >0.8916</td>\n",
       "                        <td id=\"T_6aaed_row8_col4\" class=\"data row8 col4\" >0.9233</td>\n",
       "                        <td id=\"T_6aaed_row8_col5\" class=\"data row8 col5\" >0.8404</td>\n",
       "                        <td id=\"T_6aaed_row8_col6\" class=\"data row8 col6\" >0.8427</td>\n",
       "            </tr>\n",
       "            <tr>\n",
       "                        <th id=\"T_6aaed_level0_row9\" class=\"row_heading level0 row9\" >9</th>\n",
       "                        <td id=\"T_6aaed_row9_col0\" class=\"data row9 col0\" >0.9198</td>\n",
       "                        <td id=\"T_6aaed_row9_col1\" class=\"data row9 col1\" >0.9824</td>\n",
       "                        <td id=\"T_6aaed_row9_col2\" class=\"data row9 col2\" >0.9594</td>\n",
       "                        <td id=\"T_6aaed_row9_col3\" class=\"data row9 col3\" >0.8894</td>\n",
       "                        <td id=\"T_6aaed_row9_col4\" class=\"data row9 col4\" >0.9231</td>\n",
       "                        <td id=\"T_6aaed_row9_col5\" class=\"data row9 col5\" >0.8397</td>\n",
       "                        <td id=\"T_6aaed_row9_col6\" class=\"data row9 col6\" >0.8423</td>\n",
       "            </tr>\n",
       "            <tr>\n",
       "                        <th id=\"T_6aaed_level0_row10\" class=\"row_heading level0 row10\" >Mean</th>\n",
       "                        <td id=\"T_6aaed_row10_col0\" class=\"data row10 col0\" >0.9182</td>\n",
       "                        <td id=\"T_6aaed_row10_col1\" class=\"data row10 col1\" >0.9810</td>\n",
       "                        <td id=\"T_6aaed_row10_col2\" class=\"data row10 col2\" >0.9557</td>\n",
       "                        <td id=\"T_6aaed_row10_col3\" class=\"data row10 col3\" >0.8894</td>\n",
       "                        <td id=\"T_6aaed_row10_col4\" class=\"data row10 col4\" >0.9214</td>\n",
       "                        <td id=\"T_6aaed_row10_col5\" class=\"data row10 col5\" >0.8364</td>\n",
       "                        <td id=\"T_6aaed_row10_col6\" class=\"data row10 col6\" >0.8388</td>\n",
       "            </tr>\n",
       "            <tr>\n",
       "                        <th id=\"T_6aaed_level0_row11\" class=\"row_heading level0 row11\" >SD</th>\n",
       "                        <td id=\"T_6aaed_row11_col0\" class=\"data row11 col0\" >0.0015</td>\n",
       "                        <td id=\"T_6aaed_row11_col1\" class=\"data row11 col1\" >0.0009</td>\n",
       "                        <td id=\"T_6aaed_row11_col2\" class=\"data row11 col2\" >0.0018</td>\n",
       "                        <td id=\"T_6aaed_row11_col3\" class=\"data row11 col3\" >0.0024</td>\n",
       "                        <td id=\"T_6aaed_row11_col4\" class=\"data row11 col4\" >0.0014</td>\n",
       "                        <td id=\"T_6aaed_row11_col5\" class=\"data row11 col5\" >0.0031</td>\n",
       "                        <td id=\"T_6aaed_row11_col6\" class=\"data row11 col6\" >0.0030</td>\n",
       "            </tr>\n",
       "    </tbody></table>"
      ],
      "text/plain": [
       "<pandas.io.formats.style.Styler at 0x163a1e5e3d0>"
      ]
     },
     "metadata": {},
     "output_type": "display_data"
    }
   ],
   "source": [
    "etc = create_model('et')"
   ]
  },
  {
   "cell_type": "code",
   "execution_count": 22,
   "id": "90859910",
   "metadata": {},
   "outputs": [
    {
     "data": {
      "text/html": [
       "<style  type=\"text/css\" >\n",
       "#T_31abe_row10_col0,#T_31abe_row10_col1,#T_31abe_row10_col2,#T_31abe_row10_col3,#T_31abe_row10_col4,#T_31abe_row10_col5,#T_31abe_row10_col6{\n",
       "            background:  yellow;\n",
       "        }</style><table id=\"T_31abe_\" ><thead>    <tr>        <th class=\"blank level0\" ></th>        <th class=\"col_heading level0 col0\" >Accuracy</th>        <th class=\"col_heading level0 col1\" >AUC</th>        <th class=\"col_heading level0 col2\" >Recall</th>        <th class=\"col_heading level0 col3\" >Prec.</th>        <th class=\"col_heading level0 col4\" >F1</th>        <th class=\"col_heading level0 col5\" >Kappa</th>        <th class=\"col_heading level0 col6\" >MCC</th>    </tr></thead><tbody>\n",
       "                <tr>\n",
       "                        <th id=\"T_31abe_level0_row0\" class=\"row_heading level0 row0\" >0</th>\n",
       "                        <td id=\"T_31abe_row0_col0\" class=\"data row0 col0\" >0.7375</td>\n",
       "                        <td id=\"T_31abe_row0_col1\" class=\"data row0 col1\" >0.8159</td>\n",
       "                        <td id=\"T_31abe_row0_col2\" class=\"data row0 col2\" >0.7929</td>\n",
       "                        <td id=\"T_31abe_row0_col3\" class=\"data row0 col3\" >0.7147</td>\n",
       "                        <td id=\"T_31abe_row0_col4\" class=\"data row0 col4\" >0.7518</td>\n",
       "                        <td id=\"T_31abe_row0_col5\" class=\"data row0 col5\" >0.4748</td>\n",
       "                        <td id=\"T_31abe_row0_col6\" class=\"data row0 col6\" >0.4777</td>\n",
       "            </tr>\n",
       "            <tr>\n",
       "                        <th id=\"T_31abe_level0_row1\" class=\"row_heading level0 row1\" >1</th>\n",
       "                        <td id=\"T_31abe_row1_col0\" class=\"data row1 col0\" >0.7375</td>\n",
       "                        <td id=\"T_31abe_row1_col1\" class=\"data row1 col1\" >0.8126</td>\n",
       "                        <td id=\"T_31abe_row1_col2\" class=\"data row1 col2\" >0.7982</td>\n",
       "                        <td id=\"T_31abe_row1_col3\" class=\"data row1 col3\" >0.7127</td>\n",
       "                        <td id=\"T_31abe_row1_col4\" class=\"data row1 col4\" >0.7530</td>\n",
       "                        <td id=\"T_31abe_row1_col5\" class=\"data row1 col5\" >0.4749</td>\n",
       "                        <td id=\"T_31abe_row1_col6\" class=\"data row1 col6\" >0.4784</td>\n",
       "            </tr>\n",
       "            <tr>\n",
       "                        <th id=\"T_31abe_level0_row2\" class=\"row_heading level0 row2\" >2</th>\n",
       "                        <td id=\"T_31abe_row2_col0\" class=\"data row2 col0\" >0.7373</td>\n",
       "                        <td id=\"T_31abe_row2_col1\" class=\"data row2 col1\" >0.8113</td>\n",
       "                        <td id=\"T_31abe_row2_col2\" class=\"data row2 col2\" >0.7823</td>\n",
       "                        <td id=\"T_31abe_row2_col3\" class=\"data row2 col3\" >0.7187</td>\n",
       "                        <td id=\"T_31abe_row2_col4\" class=\"data row2 col4\" >0.7491</td>\n",
       "                        <td id=\"T_31abe_row2_col5\" class=\"data row2 col5\" >0.4746</td>\n",
       "                        <td id=\"T_31abe_row2_col6\" class=\"data row2 col6\" >0.4765</td>\n",
       "            </tr>\n",
       "            <tr>\n",
       "                        <th id=\"T_31abe_level0_row3\" class=\"row_heading level0 row3\" >3</th>\n",
       "                        <td id=\"T_31abe_row3_col0\" class=\"data row3 col0\" >0.7353</td>\n",
       "                        <td id=\"T_31abe_row3_col1\" class=\"data row3 col1\" >0.8090</td>\n",
       "                        <td id=\"T_31abe_row3_col2\" class=\"data row3 col2\" >0.7944</td>\n",
       "                        <td id=\"T_31abe_row3_col3\" class=\"data row3 col3\" >0.7113</td>\n",
       "                        <td id=\"T_31abe_row3_col4\" class=\"data row3 col4\" >0.7506</td>\n",
       "                        <td id=\"T_31abe_row3_col5\" class=\"data row3 col5\" >0.4705</td>\n",
       "                        <td id=\"T_31abe_row3_col6\" class=\"data row3 col6\" >0.4738</td>\n",
       "            </tr>\n",
       "            <tr>\n",
       "                        <th id=\"T_31abe_level0_row4\" class=\"row_heading level0 row4\" >4</th>\n",
       "                        <td id=\"T_31abe_row4_col0\" class=\"data row4 col0\" >0.7409</td>\n",
       "                        <td id=\"T_31abe_row4_col1\" class=\"data row4 col1\" >0.8161</td>\n",
       "                        <td id=\"T_31abe_row4_col2\" class=\"data row4 col2\" >0.7947</td>\n",
       "                        <td id=\"T_31abe_row4_col3\" class=\"data row4 col3\" >0.7184</td>\n",
       "                        <td id=\"T_31abe_row4_col4\" class=\"data row4 col4\" >0.7546</td>\n",
       "                        <td id=\"T_31abe_row4_col5\" class=\"data row4 col5\" >0.4817</td>\n",
       "                        <td id=\"T_31abe_row4_col6\" class=\"data row4 col6\" >0.4844</td>\n",
       "            </tr>\n",
       "            <tr>\n",
       "                        <th id=\"T_31abe_level0_row5\" class=\"row_heading level0 row5\" >5</th>\n",
       "                        <td id=\"T_31abe_row5_col0\" class=\"data row5 col0\" >0.7388</td>\n",
       "                        <td id=\"T_31abe_row5_col1\" class=\"data row5 col1\" >0.8148</td>\n",
       "                        <td id=\"T_31abe_row5_col2\" class=\"data row5 col2\" >0.7948</td>\n",
       "                        <td id=\"T_31abe_row5_col3\" class=\"data row5 col3\" >0.7157</td>\n",
       "                        <td id=\"T_31abe_row5_col4\" class=\"data row5 col4\" >0.7532</td>\n",
       "                        <td id=\"T_31abe_row5_col5\" class=\"data row5 col5\" >0.4775</td>\n",
       "                        <td id=\"T_31abe_row5_col6\" class=\"data row5 col6\" >0.4805</td>\n",
       "            </tr>\n",
       "            <tr>\n",
       "                        <th id=\"T_31abe_level0_row6\" class=\"row_heading level0 row6\" >6</th>\n",
       "                        <td id=\"T_31abe_row6_col0\" class=\"data row6 col0\" >0.7399</td>\n",
       "                        <td id=\"T_31abe_row6_col1\" class=\"data row6 col1\" >0.8169</td>\n",
       "                        <td id=\"T_31abe_row6_col2\" class=\"data row6 col2\" >0.7976</td>\n",
       "                        <td id=\"T_31abe_row6_col3\" class=\"data row6 col3\" >0.7160</td>\n",
       "                        <td id=\"T_31abe_row6_col4\" class=\"data row6 col4\" >0.7546</td>\n",
       "                        <td id=\"T_31abe_row6_col5\" class=\"data row6 col5\" >0.4797</td>\n",
       "                        <td id=\"T_31abe_row6_col6\" class=\"data row6 col6\" >0.4828</td>\n",
       "            </tr>\n",
       "            <tr>\n",
       "                        <th id=\"T_31abe_level0_row7\" class=\"row_heading level0 row7\" >7</th>\n",
       "                        <td id=\"T_31abe_row7_col0\" class=\"data row7 col0\" >0.7416</td>\n",
       "                        <td id=\"T_31abe_row7_col1\" class=\"data row7 col1\" >0.8165</td>\n",
       "                        <td id=\"T_31abe_row7_col2\" class=\"data row7 col2\" >0.8004</td>\n",
       "                        <td id=\"T_31abe_row7_col3\" class=\"data row7 col3\" >0.7170</td>\n",
       "                        <td id=\"T_31abe_row7_col4\" class=\"data row7 col4\" >0.7564</td>\n",
       "                        <td id=\"T_31abe_row7_col5\" class=\"data row7 col5\" >0.4830</td>\n",
       "                        <td id=\"T_31abe_row7_col6\" class=\"data row7 col6\" >0.4863</td>\n",
       "            </tr>\n",
       "            <tr>\n",
       "                        <th id=\"T_31abe_level0_row8\" class=\"row_heading level0 row8\" >8</th>\n",
       "                        <td id=\"T_31abe_row8_col0\" class=\"data row8 col0\" >0.7301</td>\n",
       "                        <td id=\"T_31abe_row8_col1\" class=\"data row8 col1\" >0.8086</td>\n",
       "                        <td id=\"T_31abe_row8_col2\" class=\"data row8 col2\" >0.7949</td>\n",
       "                        <td id=\"T_31abe_row8_col3\" class=\"data row8 col3\" >0.7046</td>\n",
       "                        <td id=\"T_31abe_row8_col4\" class=\"data row8 col4\" >0.7470</td>\n",
       "                        <td id=\"T_31abe_row8_col5\" class=\"data row8 col5\" >0.4601</td>\n",
       "                        <td id=\"T_31abe_row8_col6\" class=\"data row8 col6\" >0.4639</td>\n",
       "            </tr>\n",
       "            <tr>\n",
       "                        <th id=\"T_31abe_level0_row9\" class=\"row_heading level0 row9\" >9</th>\n",
       "                        <td id=\"T_31abe_row9_col0\" class=\"data row9 col0\" >0.7384</td>\n",
       "                        <td id=\"T_31abe_row9_col1\" class=\"data row9 col1\" >0.8170</td>\n",
       "                        <td id=\"T_31abe_row9_col2\" class=\"data row9 col2\" >0.7909</td>\n",
       "                        <td id=\"T_31abe_row9_col3\" class=\"data row9 col3\" >0.7166</td>\n",
       "                        <td id=\"T_31abe_row9_col4\" class=\"data row9 col4\" >0.7519</td>\n",
       "                        <td id=\"T_31abe_row9_col5\" class=\"data row9 col5\" >0.4766</td>\n",
       "                        <td id=\"T_31abe_row9_col6\" class=\"data row9 col6\" >0.4792</td>\n",
       "            </tr>\n",
       "            <tr>\n",
       "                        <th id=\"T_31abe_level0_row10\" class=\"row_heading level0 row10\" >Mean</th>\n",
       "                        <td id=\"T_31abe_row10_col0\" class=\"data row10 col0\" >0.7377</td>\n",
       "                        <td id=\"T_31abe_row10_col1\" class=\"data row10 col1\" >0.8139</td>\n",
       "                        <td id=\"T_31abe_row10_col2\" class=\"data row10 col2\" >0.7941</td>\n",
       "                        <td id=\"T_31abe_row10_col3\" class=\"data row10 col3\" >0.7146</td>\n",
       "                        <td id=\"T_31abe_row10_col4\" class=\"data row10 col4\" >0.7522</td>\n",
       "                        <td id=\"T_31abe_row10_col5\" class=\"data row10 col5\" >0.4753</td>\n",
       "                        <td id=\"T_31abe_row10_col6\" class=\"data row10 col6\" >0.4783</td>\n",
       "            </tr>\n",
       "            <tr>\n",
       "                        <th id=\"T_31abe_level0_row11\" class=\"row_heading level0 row11\" >SD</th>\n",
       "                        <td id=\"T_31abe_row11_col0\" class=\"data row11 col0\" >0.0031</td>\n",
       "                        <td id=\"T_31abe_row11_col1\" class=\"data row11 col1\" >0.0031</td>\n",
       "                        <td id=\"T_31abe_row11_col2\" class=\"data row11 col2\" >0.0047</td>\n",
       "                        <td id=\"T_31abe_row11_col3\" class=\"data row11 col3\" >0.0040</td>\n",
       "                        <td id=\"T_31abe_row11_col4\" class=\"data row11 col4\" >0.0026</td>\n",
       "                        <td id=\"T_31abe_row11_col5\" class=\"data row11 col5\" >0.0062</td>\n",
       "                        <td id=\"T_31abe_row11_col6\" class=\"data row11 col6\" >0.0060</td>\n",
       "            </tr>\n",
       "    </tbody></table>"
      ],
      "text/plain": [
       "<pandas.io.formats.style.Styler at 0x16381e616a0>"
      ]
     },
     "metadata": {},
     "output_type": "display_data"
    }
   ],
   "source": [
    "tuned_dt = tune_model(etc)"
   ]
  },
  {
   "cell_type": "code",
   "execution_count": 23,
   "id": "042b7430",
   "metadata": {},
   "outputs": [],
   "source": [
    "final = finalize_model(etc)"
   ]
  },
  {
   "cell_type": "code",
   "execution_count": 24,
   "id": "2c5f9d49",
   "metadata": {},
   "outputs": [
    {
     "name": "stdout",
     "output_type": "stream",
     "text": [
      "ExtraTreesClassifier(bootstrap=False, ccp_alpha=0.0, class_weight=None,\n",
      "                     criterion='gini', max_depth=None, max_features='auto',\n",
      "                     max_leaf_nodes=None, max_samples=None,\n",
      "                     min_impurity_decrease=0.0, min_impurity_split=None,\n",
      "                     min_samples_leaf=1, min_samples_split=2,\n",
      "                     min_weight_fraction_leaf=0.0, n_estimators=100, n_jobs=-1,\n",
      "                     oob_score=False, random_state=123, verbose=0,\n",
      "                     warm_start=False)\n"
     ]
    }
   ],
   "source": [
    "print(final)"
   ]
  },
  {
   "cell_type": "code",
   "execution_count": 25,
   "id": "b621002f",
   "metadata": {},
   "outputs": [],
   "source": [
    "final.fit(X_train, y_train)\n",
    "y_preds = final.predict(X_test)"
   ]
  },
  {
   "cell_type": "code",
   "execution_count": 26,
   "id": "1881c33a",
   "metadata": {},
   "outputs": [
    {
     "name": "stdout",
     "output_type": "stream",
     "text": [
      "----- Extra Trees Classifier -----\n",
      "Accuracy: 0.9562140747017198\n",
      "AUC: 0.9562559158153325\n",
      "F1: 0.9574044645111464\n"
     ]
    }
   ],
   "source": [
    "print(\"----- Extra Trees Classifier -----\")\n",
    "print(\"Accuracy:\",accuracy_score(y_test, y_preds))\n",
    "print(\"AUC:\", roc_auc_score(y_test, y_preds))\n",
    "print(\"F1:\", f1_score(y_test, y_preds))"
   ]
  }
 ],
 "metadata": {
  "kernelspec": {
   "display_name": "Python 3",
   "language": "python",
   "name": "python3"
  },
  "language_info": {
   "codemirror_mode": {
    "name": "ipython",
    "version": 3
   },
   "file_extension": ".py",
   "mimetype": "text/x-python",
   "name": "python",
   "nbconvert_exporter": "python",
   "pygments_lexer": "ipython3",
   "version": "3.8.8"
  }
 },
 "nbformat": 4,
 "nbformat_minor": 5
}
